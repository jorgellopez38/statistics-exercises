{
 "cells": [
  {
   "cell_type": "code",
   "execution_count": 189,
   "id": "a95df86d",
   "metadata": {},
   "outputs": [],
   "source": [
    "%matplotlib inline\n",
    "import numpy as np\n",
    "import pandas as pd\n",
    "%matplotlib inline\n",
    "\n",
    "\n",
    "np.random.seed(29)\n"
   ]
  },
  {
   "cell_type": "code",
   "execution_count": 280,
   "id": "625c5a8e",
   "metadata": {},
   "outputs": [
    {
     "data": {
      "text/plain": [
       "array([[6, 6],\n",
       "       [6, 6],\n",
       "       [5, 6],\n",
       "       ...,\n",
       "       [6, 3],\n",
       "       [4, 4],\n",
       "       [5, 3]])"
      ]
     },
     "execution_count": 280,
     "metadata": {},
     "output_type": "execute_result"
    }
   ],
   "source": [
    "double_rolls = np.random.choice([1,2,3,4,5,6], size = (100000, 2))\n",
    "double_rolls"
   ]
  },
  {
   "cell_type": "code",
   "execution_count": 281,
   "id": "f1e156a0",
   "metadata": {},
   "outputs": [
    {
     "data": {
      "text/plain": [
       "array([6, 6, 5, ..., 6, 4, 5])"
      ]
     },
     "execution_count": 281,
     "metadata": {},
     "output_type": "execute_result"
    }
   ],
   "source": [
    "double_rolls[:,0]"
   ]
  },
  {
   "cell_type": "code",
   "execution_count": 282,
   "id": "58f9e528",
   "metadata": {},
   "outputs": [
    {
     "data": {
      "text/plain": [
       "array([ True,  True, False, ..., False,  True, False])"
      ]
     },
     "execution_count": 282,
     "metadata": {},
     "output_type": "execute_result"
    }
   ],
   "source": [
    "wins = double_rolls[:,0] == double_rolls[:,1]\n",
    "wins"
   ]
  },
  {
   "cell_type": "code",
   "execution_count": 283,
   "id": "4ae6d4cc",
   "metadata": {},
   "outputs": [
    {
     "data": {
      "text/plain": [
       "0.16573"
      ]
     },
     "execution_count": 283,
     "metadata": {},
     "output_type": "execute_result"
    }
   ],
   "source": [
    "win_rate = wins.astype(int).mean()\n",
    "win_rate\n"
   ]
  },
  {
   "cell_type": "code",
   "execution_count": 284,
   "id": "c28989a3",
   "metadata": {},
   "outputs": [
    {
     "data": {
      "text/plain": [
       "array([[0, 0, 1, ..., 0, 0, 1],\n",
       "       [0, 1, 1, ..., 1, 0, 0],\n",
       "       [1, 1, 1, ..., 1, 0, 0],\n",
       "       ...,\n",
       "       [1, 1, 1, ..., 0, 1, 0],\n",
       "       [1, 0, 0, ..., 0, 0, 1],\n",
       "       [0, 0, 1, ..., 0, 0, 1]])"
      ]
     },
     "execution_count": 284,
     "metadata": {},
     "output_type": "execute_result"
    }
   ],
   "source": [
    "#If you flip 8 coins, what is the probability of getting exactly 3 heads? \n",
    "#What is the probability of getting more than 3 heads?\n",
    "\n",
    "# 0 = tails, 1 = heads\n",
    "flips = np.random.choice([0, 1], size = (100000, 8))\n",
    "flips"
   ]
  },
  {
   "cell_type": "code",
   "execution_count": 285,
   "id": "fb9fbdfe",
   "metadata": {},
   "outputs": [
    {
     "data": {
      "text/plain": [
       "array([4, 5, 3, ..., 4, 5, 3])"
      ]
     },
     "execution_count": 285,
     "metadata": {},
     "output_type": "execute_result"
    }
   ],
   "source": [
    "coin_flips.sum(axis=1)"
   ]
  },
  {
   "cell_type": "code",
   "execution_count": 286,
   "id": "ef56c140",
   "metadata": {},
   "outputs": [
    {
     "data": {
      "text/plain": [
       "0.22103"
      ]
     },
     "execution_count": 286,
     "metadata": {},
     "output_type": "execute_result"
    }
   ],
   "source": [
    "\n",
    "(coin_flips.sum(axis=1) == 3).mean()"
   ]
  },
  {
   "cell_type": "code",
   "execution_count": 287,
   "id": "00ad9844",
   "metadata": {},
   "outputs": [
    {
     "data": {
      "text/plain": [
       "0.63497"
      ]
     },
     "execution_count": 287,
     "metadata": {},
     "output_type": "execute_result"
    }
   ],
   "source": [
    "(coin_flips.sum(axis=1) > 3).mean()"
   ]
  },
  {
   "cell_type": "code",
   "execution_count": 288,
   "id": "60fde991",
   "metadata": {},
   "outputs": [
    {
     "data": {
      "text/plain": [
       "array([[0, 0],\n",
       "       [0, 0],\n",
       "       [0, 0],\n",
       "       ...,\n",
       "       [0, 1],\n",
       "       [0, 0],\n",
       "       [0, 0]])"
      ]
     },
     "execution_count": 288,
     "metadata": {},
     "output_type": "execute_result"
    }
   ],
   "source": [
    "#There are approximitely 3 web development cohorts for every 1 data science cohort at Codeup. \n",
    "#Assuming that Codeup randomly selects an alumni to put on a billboard, what are the odds \n",
    "#that the two billboards I drive past both have data science students on them?\n",
    "\n",
    "# WD = 0, DS = 1\n",
    "billboard = np.random.choice([0, 1], size = (100000, 2), p = [0.75, 0.25])\n",
    "billboard"
   ]
  },
  {
   "cell_type": "code",
   "execution_count": 291,
   "id": "f3d7a376",
   "metadata": {},
   "outputs": [
    {
     "data": {
      "text/plain": [
       "0.06185"
      ]
     },
     "execution_count": 291,
     "metadata": {},
     "output_type": "execute_result"
    }
   ],
   "source": [
    "p = (billboard.sum(axis = 1) == 2).mean()\n",
    "p"
   ]
  },
  {
   "cell_type": "code",
   "execution_count": 120,
   "id": "2fa6f146",
   "metadata": {},
   "outputs": [
    {
     "data": {
      "text/plain": [
       "array([[ 1.0773031 ,  2.15288804,  1.82705605,  0.82291784,  4.78212337],\n",
       "       [ 2.82667484,  2.79884196,  3.32284829,  3.96905463,  5.55856982],\n",
       "       [ 3.72250074,  4.94110698,  3.91351927,  3.27711951,  4.99622207],\n",
       "       ...,\n",
       "       [ 4.24385638,  5.04471439,  4.94662913,  5.30394435,  2.68190644],\n",
       "       [ 1.49602628,  2.18941501,  3.3858733 ,  2.71152539,  1.10941266],\n",
       "       [ 4.96843477,  2.9182412 ,  6.54294494, -1.99972435,  3.2974411 ]])"
      ]
     },
     "execution_count": 120,
     "metadata": {},
     "output_type": "execute_result"
    }
   ],
   "source": [
    "#Codeup students buy, on average, 3 poptart packages with a standard deviation of \n",
    "#1.5 a day from the snack vending machine. If on monday the machine is restocked with 17 \n",
    "#poptart packages, how likely is it that I will be able to buy some poptarts on Friday afternoon? \n",
    "#(Remember, if you have mean and standard deviation, use the np.random.normal) You'll need to make a \n",
    "#judgement call on how to handle some of your values\n",
    "\n",
    "\n",
    "\n",
    "poptart = np.random.normal(3,1.5, size = (10000, 5))\n",
    "\n",
    "poptart"
   ]
  },
  {
   "cell_type": "code",
   "execution_count": 121,
   "id": "6d3c0267",
   "metadata": {},
   "outputs": [
    {
     "data": {
      "text/plain": [
       "array([10.6622884 , 18.47598954, 20.85046856, ..., 22.2210507 ,\n",
       "       10.89225265, 15.72733766])"
      ]
     },
     "execution_count": 121,
     "metadata": {},
     "output_type": "execute_result"
    }
   ],
   "source": [
    "poptart.sum(axis=1)"
   ]
  },
  {
   "cell_type": "code",
   "execution_count": 295,
   "id": "7386bd0a",
   "metadata": {},
   "outputs": [
    {
     "data": {
      "text/plain": [
       "array([ True, False, False, ..., False,  True,  True])"
      ]
     },
     "execution_count": 295,
     "metadata": {},
     "output_type": "execute_result"
    }
   ],
   "source": [
    "poptart.sum(axis=1) <= 16"
   ]
  },
  {
   "cell_type": "code",
   "execution_count": 294,
   "id": "a8bfed2c",
   "metadata": {},
   "outputs": [
    {
     "data": {
      "text/plain": [
       "0.6089"
      ]
     },
     "execution_count": 294,
     "metadata": {},
     "output_type": "execute_result"
    }
   ],
   "source": [
    "# poptart.sum(axis=1) >= 16 to get booleans\n",
    "\n",
    "(poptart.sum(axis=1) <= 16).mean()"
   ]
  },
  {
   "cell_type": "code",
   "execution_count": 127,
   "id": "9b77b179",
   "metadata": {},
   "outputs": [],
   "source": [
    "#Compare Heights\n",
    "\n",
    "#Men have an average height of 178 cm and standard deviation of 8cm.\n",
    "#Women have a mean of 170, standard d = 6cm.\n",
    "#Since you have means and standard deviations, you can use np.random.normal to generate observations.\n",
    "#If a man and woman are chosen at random, what is the likelihood the woman is taller than the man?\n",
    "\n",
    "\n",
    "\n",
    "men_heights = np.random.normal(178,8, size = (10000))\n",
    "                               \n",
    "women_heights = np.random.normal(170,6, size = (10000))\n"
   ]
  },
  {
   "cell_type": "code",
   "execution_count": 139,
   "id": "45febd0b",
   "metadata": {},
   "outputs": [
    {
     "data": {
      "text/plain": [
       "array([175.79579371, 169.40524445, 182.14506047, ..., 180.92553036,\n",
       "       183.50337037, 186.85451021])"
      ]
     },
     "execution_count": 139,
     "metadata": {},
     "output_type": "execute_result"
    }
   ],
   "source": [
    "men_heights"
   ]
  },
  {
   "cell_type": "code",
   "execution_count": 140,
   "id": "de6778ac",
   "metadata": {},
   "outputs": [
    {
     "data": {
      "text/plain": [
       "array([169.67790225, 174.33674533, 175.82048126, ..., 177.22471648,\n",
       "       173.02263328, 179.44582128])"
      ]
     },
     "execution_count": 140,
     "metadata": {},
     "output_type": "execute_result"
    }
   ],
   "source": [
    "#pd.DataFrame(women_heights)\n",
    "\n",
    "women_heights"
   ]
  },
  {
   "cell_type": "code",
   "execution_count": 146,
   "id": "14495374",
   "metadata": {},
   "outputs": [
    {
     "data": {
      "text/html": [
       "<div>\n",
       "<style scoped>\n",
       "    .dataframe tbody tr th:only-of-type {\n",
       "        vertical-align: middle;\n",
       "    }\n",
       "\n",
       "    .dataframe tbody tr th {\n",
       "        vertical-align: top;\n",
       "    }\n",
       "\n",
       "    .dataframe thead th {\n",
       "        text-align: right;\n",
       "    }\n",
       "</style>\n",
       "<table border=\"1\" class=\"dataframe\">\n",
       "  <thead>\n",
       "    <tr style=\"text-align: right;\">\n",
       "      <th></th>\n",
       "      <th>0</th>\n",
       "    </tr>\n",
       "  </thead>\n",
       "  <tbody>\n",
       "    <tr>\n",
       "      <th>count</th>\n",
       "      <td>10000.000000</td>\n",
       "    </tr>\n",
       "    <tr>\n",
       "      <th>mean</th>\n",
       "      <td>170.024493</td>\n",
       "    </tr>\n",
       "    <tr>\n",
       "      <th>std</th>\n",
       "      <td>6.024616</td>\n",
       "    </tr>\n",
       "    <tr>\n",
       "      <th>min</th>\n",
       "      <td>146.741771</td>\n",
       "    </tr>\n",
       "    <tr>\n",
       "      <th>25%</th>\n",
       "      <td>165.899170</td>\n",
       "    </tr>\n",
       "    <tr>\n",
       "      <th>50%</th>\n",
       "      <td>170.050447</td>\n",
       "    </tr>\n",
       "    <tr>\n",
       "      <th>75%</th>\n",
       "      <td>174.190008</td>\n",
       "    </tr>\n",
       "    <tr>\n",
       "      <th>max</th>\n",
       "      <td>191.668009</td>\n",
       "    </tr>\n",
       "  </tbody>\n",
       "</table>\n",
       "</div>"
      ],
      "text/plain": [
       "                  0\n",
       "count  10000.000000\n",
       "mean     170.024493\n",
       "std        6.024616\n",
       "min      146.741771\n",
       "25%      165.899170\n",
       "50%      170.050447\n",
       "75%      174.190008\n",
       "max      191.668009"
      ]
     },
     "execution_count": 146,
     "metadata": {},
     "output_type": "execute_result"
    }
   ],
   "source": [
    "pd.DataFrame(women_heights).describe()"
   ]
  },
  {
   "cell_type": "code",
   "execution_count": 147,
   "id": "65e6485f",
   "metadata": {},
   "outputs": [
    {
     "data": {
      "text/html": [
       "<div>\n",
       "<style scoped>\n",
       "    .dataframe tbody tr th:only-of-type {\n",
       "        vertical-align: middle;\n",
       "    }\n",
       "\n",
       "    .dataframe tbody tr th {\n",
       "        vertical-align: top;\n",
       "    }\n",
       "\n",
       "    .dataframe thead th {\n",
       "        text-align: right;\n",
       "    }\n",
       "</style>\n",
       "<table border=\"1\" class=\"dataframe\">\n",
       "  <thead>\n",
       "    <tr style=\"text-align: right;\">\n",
       "      <th></th>\n",
       "      <th>0</th>\n",
       "    </tr>\n",
       "  </thead>\n",
       "  <tbody>\n",
       "    <tr>\n",
       "      <th>count</th>\n",
       "      <td>10000.000000</td>\n",
       "    </tr>\n",
       "    <tr>\n",
       "      <th>mean</th>\n",
       "      <td>178.203175</td>\n",
       "    </tr>\n",
       "    <tr>\n",
       "      <th>std</th>\n",
       "      <td>8.038510</td>\n",
       "    </tr>\n",
       "    <tr>\n",
       "      <th>min</th>\n",
       "      <td>142.974222</td>\n",
       "    </tr>\n",
       "    <tr>\n",
       "      <th>25%</th>\n",
       "      <td>172.799259</td>\n",
       "    </tr>\n",
       "    <tr>\n",
       "      <th>50%</th>\n",
       "      <td>178.239617</td>\n",
       "    </tr>\n",
       "    <tr>\n",
       "      <th>75%</th>\n",
       "      <td>183.619373</td>\n",
       "    </tr>\n",
       "    <tr>\n",
       "      <th>max</th>\n",
       "      <td>210.886376</td>\n",
       "    </tr>\n",
       "  </tbody>\n",
       "</table>\n",
       "</div>"
      ],
      "text/plain": [
       "                  0\n",
       "count  10000.000000\n",
       "mean     178.203175\n",
       "std        8.038510\n",
       "min      142.974222\n",
       "25%      172.799259\n",
       "50%      178.239617\n",
       "75%      183.619373\n",
       "max      210.886376"
      ]
     },
     "execution_count": 147,
     "metadata": {},
     "output_type": "execute_result"
    }
   ],
   "source": [
    "pd.DataFrame(men_heights).describe()"
   ]
  },
  {
   "cell_type": "code",
   "execution_count": 296,
   "id": "1096c801",
   "metadata": {},
   "outputs": [
    {
     "data": {
      "text/plain": [
       "0.2101"
      ]
     },
     "execution_count": 296,
     "metadata": {},
     "output_type": "execute_result"
    }
   ],
   "source": [
    "(women_heights > men_heights).mean()"
   ]
  },
  {
   "cell_type": "code",
   "execution_count": 300,
   "id": "fe26c698",
   "metadata": {
    "scrolled": false
   },
   "outputs": [
    {
     "data": {
      "text/plain": [
       "array([[0, 0, 0, ..., 0, 0, 0],\n",
       "       [0, 0, 0, ..., 0, 0, 0],\n",
       "       [0, 0, 0, ..., 0, 0, 0],\n",
       "       ...,\n",
       "       [0, 0, 0, ..., 0, 0, 0],\n",
       "       [0, 0, 0, ..., 0, 0, 0],\n",
       "       [0, 0, 0, ..., 0, 0, 0]])"
      ]
     },
     "execution_count": 300,
     "metadata": {},
     "output_type": "execute_result"
    }
   ],
   "source": [
    "#When installing anaconda on a student's computer, there's a 1 in 250 chance that the download is corrupted \n",
    "#and the installation fails. What are the odds that after having 50 students download anaconda, \n",
    "#no one has an installation issue? 100 students?\n",
    "\n",
    "#What is the probability that we observe an installation issue within the first 150 students \n",
    "#that download anaconda?\n",
    "\n",
    "\n",
    "# 0 = no issues, 1 = issue\n",
    "corrupt50 = np.random.choice([0,1], size = (10000, 50), p = [249/250, 1/250])\n",
    "corrupt50\n"
   ]
  },
  {
   "cell_type": "code",
   "execution_count": 301,
   "id": "482548b3",
   "metadata": {},
   "outputs": [
    {
     "data": {
      "text/plain": [
       "0.8181"
      ]
     },
     "execution_count": 301,
     "metadata": {},
     "output_type": "execute_result"
    }
   ],
   "source": [
    "# no issues for 50 students\n",
    "(corrupt50.sum(axis = 1) == 0).mean()"
   ]
  },
  {
   "cell_type": "code",
   "execution_count": 302,
   "id": "007bfaa5",
   "metadata": {},
   "outputs": [
    {
     "data": {
      "text/plain": [
       "array([[0, 0, 0, ..., 0, 0, 0],\n",
       "       [0, 0, 0, ..., 0, 0, 0],\n",
       "       [0, 0, 0, ..., 0, 0, 0],\n",
       "       ...,\n",
       "       [0, 0, 0, ..., 0, 0, 0],\n",
       "       [0, 0, 0, ..., 0, 0, 0],\n",
       "       [0, 0, 0, ..., 0, 0, 0]])"
      ]
     },
     "execution_count": 302,
     "metadata": {},
     "output_type": "execute_result"
    }
   ],
   "source": [
    "corrupt100 = np.random.choice([0,1], size = (10000, 100), p = [249/250, 1/250])\n",
    "corrupt100"
   ]
  },
  {
   "cell_type": "code",
   "execution_count": 303,
   "id": "a2581553",
   "metadata": {},
   "outputs": [
    {
     "data": {
      "text/plain": [
       "0.672"
      ]
     },
     "execution_count": 303,
     "metadata": {},
     "output_type": "execute_result"
    }
   ],
   "source": [
    "(corrupt100.sum(axis = 1) == 0).mean()"
   ]
  },
  {
   "cell_type": "code",
   "execution_count": 304,
   "id": "759e6484",
   "metadata": {},
   "outputs": [
    {
     "data": {
      "text/plain": [
       "array([[0, 0, 0, ..., 0, 0, 0],\n",
       "       [0, 0, 0, ..., 0, 0, 0],\n",
       "       [0, 0, 0, ..., 0, 0, 0],\n",
       "       ...,\n",
       "       [0, 0, 0, ..., 0, 0, 0],\n",
       "       [0, 0, 0, ..., 0, 0, 0],\n",
       "       [0, 0, 0, ..., 0, 0, 0]])"
      ]
     },
     "execution_count": 304,
     "metadata": {},
     "output_type": "execute_result"
    }
   ],
   "source": [
    "corrupt150 = np.random.choice([0,1], size = (10000, 150), p = [249/250, 1/250])\n",
    "corrupt150"
   ]
  },
  {
   "cell_type": "code",
   "execution_count": 305,
   "id": "a143d377",
   "metadata": {},
   "outputs": [
    {
     "data": {
      "text/plain": [
       "0.5432"
      ]
     },
     "execution_count": 305,
     "metadata": {},
     "output_type": "execute_result"
    }
   ],
   "source": [
    "(corrupt150.sum(axis = 1) == 0).mean()"
   ]
  },
  {
   "cell_type": "code",
   "execution_count": 306,
   "id": "c0548086",
   "metadata": {},
   "outputs": [
    {
     "data": {
      "text/plain": [
       "array([[0, 0, 0, ..., 0, 0, 0],\n",
       "       [0, 0, 0, ..., 0, 0, 0],\n",
       "       [0, 0, 0, ..., 0, 0, 0],\n",
       "       ...,\n",
       "       [0, 0, 0, ..., 0, 0, 0],\n",
       "       [0, 0, 0, ..., 0, 0, 0],\n",
       "       [0, 0, 0, ..., 0, 0, 0]])"
      ]
     },
     "execution_count": 306,
     "metadata": {},
     "output_type": "execute_result"
    }
   ],
   "source": [
    "corrupt450 = np.random.choice([0,1], size = (10000, 450), p = [249/250, 1/250])\n",
    "corrupt150"
   ]
  },
  {
   "cell_type": "code",
   "execution_count": 307,
   "id": "4494352c",
   "metadata": {},
   "outputs": [
    {
     "data": {
      "text/plain": [
       "0.1643"
      ]
     },
     "execution_count": 307,
     "metadata": {},
     "output_type": "execute_result"
    }
   ],
   "source": [
    "(corrupt450.sum(axis = 1) == 0).mean()"
   ]
  },
  {
   "cell_type": "code",
   "execution_count": 308,
   "id": "8bd9f3a6",
   "metadata": {},
   "outputs": [
    {
     "data": {
      "text/plain": [
       "array([[0, 1, 1],\n",
       "       [1, 0, 1],\n",
       "       [1, 1, 1],\n",
       "       ...,\n",
       "       [1, 0, 1],\n",
       "       [1, 1, 1],\n",
       "       [1, 0, 1]])"
      ]
     },
     "execution_count": 308,
     "metadata": {},
     "output_type": "execute_result"
    }
   ],
   "source": [
    "#There's a 70% chance on any given day that there will be at least one food truck at Travis Park. \n",
    "#However, you haven't seen a food truck there in 3 days. How unlikely is this?\n",
    "#How likely is it that a food truck will show up sometime this week?\n",
    "\n",
    "\n",
    "# 0 = np truck, 1 = truck shows up\n",
    "food_truck = np.random.choice([0, 1], size = (10000, 3), p = [0.3, 0.7] )\n",
    "food_truck"
   ]
  },
  {
   "cell_type": "code",
   "execution_count": 309,
   "id": "db40aea9",
   "metadata": {},
   "outputs": [
    {
     "data": {
      "text/plain": [
       "0.0265"
      ]
     },
     "execution_count": 309,
     "metadata": {},
     "output_type": "execute_result"
    }
   ],
   "source": [
    "(food_truck.sum(axis = 1) == 0).mean()"
   ]
  },
  {
   "cell_type": "code",
   "execution_count": 310,
   "id": "0d8b70d3",
   "metadata": {},
   "outputs": [
    {
     "data": {
      "text/plain": [
       "array([[1, 1, 0, 1, 1],\n",
       "       [1, 1, 0, 1, 0],\n",
       "       [0, 0, 0, 1, 1],\n",
       "       ...,\n",
       "       [1, 1, 0, 0, 1],\n",
       "       [1, 1, 0, 1, 1],\n",
       "       [1, 0, 1, 0, 1]])"
      ]
     },
     "execution_count": 310,
     "metadata": {},
     "output_type": "execute_result"
    }
   ],
   "source": [
    "food_truck_week = np.random.choice([0, 1], size = (10000, 5), p = [0.3, 0.7] )\n",
    "food_truck_week"
   ]
  },
  {
   "cell_type": "code",
   "execution_count": 312,
   "id": "ef47b3a5",
   "metadata": {},
   "outputs": [
    {
     "data": {
      "text/plain": [
       "0.9715"
      ]
     },
     "execution_count": 312,
     "metadata": {},
     "output_type": "execute_result"
    }
   ],
   "source": [
    "(food_truck_week.sum(axis = 1) > 1).mean()"
   ]
  },
  {
   "cell_type": "code",
   "execution_count": 274,
   "id": "de88930e",
   "metadata": {},
   "outputs": [
    {
     "data": {
      "text/plain": [
       "array([[ 42, 249,  84, ..., 117,  12, 278],\n",
       "       [ 20, 331, 296, ..., 273, 319, 247],\n",
       "       [ 10,   9, 181, ...,  97, 250, 175],\n",
       "       ...,\n",
       "       [246, 233, 140, ..., 246,  37, 106],\n",
       "       [296, 136, 232, ..., 239, 248, 325],\n",
       "       [136,  77, 353, ..., 210,  54, 223]])"
      ]
     },
     "execution_count": 274,
     "metadata": {},
     "output_type": "execute_result"
    }
   ],
   "source": [
    "#If 23 people are in the same room, what are the odds that two of them share a birthday? \n",
    "#What if it's 20 people? 40?\n",
    "\n",
    "\n",
    "bday = np.random.choice(range(1,366), size = (10000, 23))\n",
    "bday\n"
   ]
  },
  {
   "cell_type": "code",
   "execution_count": 278,
   "id": "f9609480",
   "metadata": {},
   "outputs": [
    {
     "data": {
      "text/html": [
       "<div>\n",
       "<style scoped>\n",
       "    .dataframe tbody tr th:only-of-type {\n",
       "        vertical-align: middle;\n",
       "    }\n",
       "\n",
       "    .dataframe tbody tr th {\n",
       "        vertical-align: top;\n",
       "    }\n",
       "\n",
       "    .dataframe thead th {\n",
       "        text-align: right;\n",
       "    }\n",
       "</style>\n",
       "<table border=\"1\" class=\"dataframe\">\n",
       "  <thead>\n",
       "    <tr style=\"text-align: right;\">\n",
       "      <th></th>\n",
       "      <th>0</th>\n",
       "      <th>1</th>\n",
       "      <th>2</th>\n",
       "      <th>3</th>\n",
       "      <th>4</th>\n",
       "      <th>5</th>\n",
       "      <th>6</th>\n",
       "      <th>7</th>\n",
       "      <th>8</th>\n",
       "      <th>9</th>\n",
       "      <th>...</th>\n",
       "      <th>13</th>\n",
       "      <th>14</th>\n",
       "      <th>15</th>\n",
       "      <th>16</th>\n",
       "      <th>17</th>\n",
       "      <th>18</th>\n",
       "      <th>19</th>\n",
       "      <th>20</th>\n",
       "      <th>21</th>\n",
       "      <th>22</th>\n",
       "    </tr>\n",
       "  </thead>\n",
       "  <tbody>\n",
       "    <tr>\n",
       "      <th>0</th>\n",
       "      <td>42</td>\n",
       "      <td>249</td>\n",
       "      <td>84</td>\n",
       "      <td>263</td>\n",
       "      <td>329</td>\n",
       "      <td>170</td>\n",
       "      <td>116</td>\n",
       "      <td>226</td>\n",
       "      <td>159</td>\n",
       "      <td>19</td>\n",
       "      <td>...</td>\n",
       "      <td>238</td>\n",
       "      <td>151</td>\n",
       "      <td>82</td>\n",
       "      <td>78</td>\n",
       "      <td>309</td>\n",
       "      <td>329</td>\n",
       "      <td>280</td>\n",
       "      <td>117</td>\n",
       "      <td>12</td>\n",
       "      <td>278</td>\n",
       "    </tr>\n",
       "    <tr>\n",
       "      <th>1</th>\n",
       "      <td>20</td>\n",
       "      <td>331</td>\n",
       "      <td>296</td>\n",
       "      <td>311</td>\n",
       "      <td>267</td>\n",
       "      <td>224</td>\n",
       "      <td>130</td>\n",
       "      <td>133</td>\n",
       "      <td>7</td>\n",
       "      <td>94</td>\n",
       "      <td>...</td>\n",
       "      <td>198</td>\n",
       "      <td>193</td>\n",
       "      <td>304</td>\n",
       "      <td>38</td>\n",
       "      <td>92</td>\n",
       "      <td>181</td>\n",
       "      <td>235</td>\n",
       "      <td>273</td>\n",
       "      <td>319</td>\n",
       "      <td>247</td>\n",
       "    </tr>\n",
       "    <tr>\n",
       "      <th>2</th>\n",
       "      <td>10</td>\n",
       "      <td>9</td>\n",
       "      <td>181</td>\n",
       "      <td>203</td>\n",
       "      <td>81</td>\n",
       "      <td>41</td>\n",
       "      <td>79</td>\n",
       "      <td>220</td>\n",
       "      <td>172</td>\n",
       "      <td>98</td>\n",
       "      <td>...</td>\n",
       "      <td>241</td>\n",
       "      <td>312</td>\n",
       "      <td>11</td>\n",
       "      <td>347</td>\n",
       "      <td>134</td>\n",
       "      <td>292</td>\n",
       "      <td>188</td>\n",
       "      <td>97</td>\n",
       "      <td>250</td>\n",
       "      <td>175</td>\n",
       "    </tr>\n",
       "    <tr>\n",
       "      <th>3</th>\n",
       "      <td>189</td>\n",
       "      <td>116</td>\n",
       "      <td>32</td>\n",
       "      <td>316</td>\n",
       "      <td>284</td>\n",
       "      <td>83</td>\n",
       "      <td>164</td>\n",
       "      <td>347</td>\n",
       "      <td>274</td>\n",
       "      <td>78</td>\n",
       "      <td>...</td>\n",
       "      <td>234</td>\n",
       "      <td>6</td>\n",
       "      <td>56</td>\n",
       "      <td>102</td>\n",
       "      <td>312</td>\n",
       "      <td>190</td>\n",
       "      <td>175</td>\n",
       "      <td>204</td>\n",
       "      <td>263</td>\n",
       "      <td>118</td>\n",
       "    </tr>\n",
       "    <tr>\n",
       "      <th>4</th>\n",
       "      <td>62</td>\n",
       "      <td>53</td>\n",
       "      <td>359</td>\n",
       "      <td>195</td>\n",
       "      <td>333</td>\n",
       "      <td>5</td>\n",
       "      <td>286</td>\n",
       "      <td>299</td>\n",
       "      <td>9</td>\n",
       "      <td>55</td>\n",
       "      <td>...</td>\n",
       "      <td>22</td>\n",
       "      <td>18</td>\n",
       "      <td>218</td>\n",
       "      <td>28</td>\n",
       "      <td>4</td>\n",
       "      <td>122</td>\n",
       "      <td>274</td>\n",
       "      <td>165</td>\n",
       "      <td>16</td>\n",
       "      <td>310</td>\n",
       "    </tr>\n",
       "    <tr>\n",
       "      <th>...</th>\n",
       "      <td>...</td>\n",
       "      <td>...</td>\n",
       "      <td>...</td>\n",
       "      <td>...</td>\n",
       "      <td>...</td>\n",
       "      <td>...</td>\n",
       "      <td>...</td>\n",
       "      <td>...</td>\n",
       "      <td>...</td>\n",
       "      <td>...</td>\n",
       "      <td>...</td>\n",
       "      <td>...</td>\n",
       "      <td>...</td>\n",
       "      <td>...</td>\n",
       "      <td>...</td>\n",
       "      <td>...</td>\n",
       "      <td>...</td>\n",
       "      <td>...</td>\n",
       "      <td>...</td>\n",
       "      <td>...</td>\n",
       "      <td>...</td>\n",
       "    </tr>\n",
       "    <tr>\n",
       "      <th>9995</th>\n",
       "      <td>208</td>\n",
       "      <td>218</td>\n",
       "      <td>217</td>\n",
       "      <td>270</td>\n",
       "      <td>158</td>\n",
       "      <td>99</td>\n",
       "      <td>91</td>\n",
       "      <td>319</td>\n",
       "      <td>212</td>\n",
       "      <td>165</td>\n",
       "      <td>...</td>\n",
       "      <td>219</td>\n",
       "      <td>74</td>\n",
       "      <td>152</td>\n",
       "      <td>143</td>\n",
       "      <td>365</td>\n",
       "      <td>338</td>\n",
       "      <td>192</td>\n",
       "      <td>97</td>\n",
       "      <td>338</td>\n",
       "      <td>257</td>\n",
       "    </tr>\n",
       "    <tr>\n",
       "      <th>9996</th>\n",
       "      <td>284</td>\n",
       "      <td>361</td>\n",
       "      <td>68</td>\n",
       "      <td>202</td>\n",
       "      <td>240</td>\n",
       "      <td>312</td>\n",
       "      <td>194</td>\n",
       "      <td>274</td>\n",
       "      <td>121</td>\n",
       "      <td>162</td>\n",
       "      <td>...</td>\n",
       "      <td>57</td>\n",
       "      <td>238</td>\n",
       "      <td>41</td>\n",
       "      <td>158</td>\n",
       "      <td>344</td>\n",
       "      <td>55</td>\n",
       "      <td>197</td>\n",
       "      <td>328</td>\n",
       "      <td>28</td>\n",
       "      <td>132</td>\n",
       "    </tr>\n",
       "    <tr>\n",
       "      <th>9997</th>\n",
       "      <td>246</td>\n",
       "      <td>233</td>\n",
       "      <td>140</td>\n",
       "      <td>208</td>\n",
       "      <td>223</td>\n",
       "      <td>104</td>\n",
       "      <td>223</td>\n",
       "      <td>112</td>\n",
       "      <td>130</td>\n",
       "      <td>140</td>\n",
       "      <td>...</td>\n",
       "      <td>149</td>\n",
       "      <td>347</td>\n",
       "      <td>126</td>\n",
       "      <td>166</td>\n",
       "      <td>46</td>\n",
       "      <td>154</td>\n",
       "      <td>361</td>\n",
       "      <td>246</td>\n",
       "      <td>37</td>\n",
       "      <td>106</td>\n",
       "    </tr>\n",
       "    <tr>\n",
       "      <th>9998</th>\n",
       "      <td>296</td>\n",
       "      <td>136</td>\n",
       "      <td>232</td>\n",
       "      <td>286</td>\n",
       "      <td>238</td>\n",
       "      <td>321</td>\n",
       "      <td>46</td>\n",
       "      <td>25</td>\n",
       "      <td>35</td>\n",
       "      <td>13</td>\n",
       "      <td>...</td>\n",
       "      <td>178</td>\n",
       "      <td>359</td>\n",
       "      <td>365</td>\n",
       "      <td>88</td>\n",
       "      <td>260</td>\n",
       "      <td>140</td>\n",
       "      <td>118</td>\n",
       "      <td>239</td>\n",
       "      <td>248</td>\n",
       "      <td>325</td>\n",
       "    </tr>\n",
       "    <tr>\n",
       "      <th>9999</th>\n",
       "      <td>136</td>\n",
       "      <td>77</td>\n",
       "      <td>353</td>\n",
       "      <td>206</td>\n",
       "      <td>202</td>\n",
       "      <td>326</td>\n",
       "      <td>114</td>\n",
       "      <td>239</td>\n",
       "      <td>362</td>\n",
       "      <td>131</td>\n",
       "      <td>...</td>\n",
       "      <td>31</td>\n",
       "      <td>132</td>\n",
       "      <td>13</td>\n",
       "      <td>253</td>\n",
       "      <td>96</td>\n",
       "      <td>195</td>\n",
       "      <td>333</td>\n",
       "      <td>210</td>\n",
       "      <td>54</td>\n",
       "      <td>223</td>\n",
       "    </tr>\n",
       "  </tbody>\n",
       "</table>\n",
       "<p>10000 rows × 23 columns</p>\n",
       "</div>"
      ],
      "text/plain": [
       "       0    1    2    3    4    5    6    7    8    9   ...   13   14   15  \\\n",
       "0      42  249   84  263  329  170  116  226  159   19  ...  238  151   82   \n",
       "1      20  331  296  311  267  224  130  133    7   94  ...  198  193  304   \n",
       "2      10    9  181  203   81   41   79  220  172   98  ...  241  312   11   \n",
       "3     189  116   32  316  284   83  164  347  274   78  ...  234    6   56   \n",
       "4      62   53  359  195  333    5  286  299    9   55  ...   22   18  218   \n",
       "...   ...  ...  ...  ...  ...  ...  ...  ...  ...  ...  ...  ...  ...  ...   \n",
       "9995  208  218  217  270  158   99   91  319  212  165  ...  219   74  152   \n",
       "9996  284  361   68  202  240  312  194  274  121  162  ...   57  238   41   \n",
       "9997  246  233  140  208  223  104  223  112  130  140  ...  149  347  126   \n",
       "9998  296  136  232  286  238  321   46   25   35   13  ...  178  359  365   \n",
       "9999  136   77  353  206  202  326  114  239  362  131  ...   31  132   13   \n",
       "\n",
       "       16   17   18   19   20   21   22  \n",
       "0      78  309  329  280  117   12  278  \n",
       "1      38   92  181  235  273  319  247  \n",
       "2     347  134  292  188   97  250  175  \n",
       "3     102  312  190  175  204  263  118  \n",
       "4      28    4  122  274  165   16  310  \n",
       "...   ...  ...  ...  ...  ...  ...  ...  \n",
       "9995  143  365  338  192   97  338  257  \n",
       "9996  158  344   55  197  328   28  132  \n",
       "9997  166   46  154  361  246   37  106  \n",
       "9998   88  260  140  118  239  248  325  \n",
       "9999  253   96  195  333  210   54  223  \n",
       "\n",
       "[10000 rows x 23 columns]"
      ]
     },
     "execution_count": 278,
     "metadata": {},
     "output_type": "execute_result"
    }
   ],
   "source": [
    "pd.DataFrame(bday)"
   ]
  },
  {
   "cell_type": "code",
   "execution_count": 279,
   "id": "42522e3d",
   "metadata": {},
   "outputs": [
    {
     "data": {
      "text/plain": [
       "0       22\n",
       "1       23\n",
       "2       23\n",
       "3       23\n",
       "4       23\n",
       "        ..\n",
       "9995    22\n",
       "9996    23\n",
       "9997    20\n",
       "9998    22\n",
       "9999    22\n",
       "Length: 10000, dtype: int64"
      ]
     },
     "execution_count": 279,
     "metadata": {},
     "output_type": "execute_result"
    }
   ],
   "source": [
    "pd.DataFrame(bday).nunique(axis = 1)"
   ]
  },
  {
   "cell_type": "code",
   "execution_count": 276,
   "id": "4bbc44a9",
   "metadata": {},
   "outputs": [
    {
     "data": {
      "text/plain": [
       "0.5097"
      ]
     },
     "execution_count": 276,
     "metadata": {},
     "output_type": "execute_result"
    }
   ],
   "source": [
    "(pd.DataFrame(bday).nunique(axis = 1) < 23).mean()"
   ]
  },
  {
   "cell_type": "code",
   "execution_count": 313,
   "id": "0cddb5e2",
   "metadata": {},
   "outputs": [
    {
     "data": {
      "text/plain": [
       "0.41025"
      ]
     },
     "execution_count": 313,
     "metadata": {},
     "output_type": "execute_result"
    }
   ],
   "source": [
    "n_simulations = 100_000\n",
    "n_people = 20\n",
    "\n",
    "\n",
    "birthdays = np.random.choice(range(365), size=(n_simulations, n_people))\n",
    "df = pd.DataFrame(birthdays)\n",
    "df[\"n_unique\"] = df.nunique(axis=1)\n",
    "(df.n_unique != n_people).mean()"
   ]
  },
  {
   "cell_type": "code",
   "execution_count": 314,
   "id": "8f29645e",
   "metadata": {},
   "outputs": [
    {
     "data": {
      "text/plain": [
       "0.89227"
      ]
     },
     "execution_count": 314,
     "metadata": {},
     "output_type": "execute_result"
    }
   ],
   "source": [
    "n_simulations = 100_000\n",
    "n_people = 40\n",
    "\n",
    "\n",
    "birthdays = np.random.choice(range(365), size=(n_simulations, n_people))\n",
    "df = pd.DataFrame(birthdays)\n",
    "df[\"n_unique\"] = df.nunique(axis=1)\n",
    "(df.n_unique != n_people).mean()"
   ]
  },
  {
   "cell_type": "code",
   "execution_count": null,
   "id": "ecc0472b",
   "metadata": {},
   "outputs": [],
   "source": []
  }
 ],
 "metadata": {
  "kernelspec": {
   "display_name": "Python 3 (ipykernel)",
   "language": "python",
   "name": "python3"
  },
  "language_info": {
   "codemirror_mode": {
    "name": "ipython",
    "version": 3
   },
   "file_extension": ".py",
   "mimetype": "text/x-python",
   "name": "python",
   "nbconvert_exporter": "python",
   "pygments_lexer": "ipython3",
   "version": "3.9.13"
  }
 },
 "nbformat": 4,
 "nbformat_minor": 5
}

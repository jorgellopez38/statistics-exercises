{
 "cells": [
  {
   "cell_type": "markdown",
   "id": "aaa7ee62",
   "metadata": {},
   "source": [
    "### For each of the following questions, formulate a null and alternative hypothesis (be as specific as you can be), then give an example of what a true positive, true negative, type I and type II errors would look like. Note that some of the questions are intentionally phrased in a vague way. It is your job to reword these as more precise questions that could be tested."
   ]
  },
  {
   "cell_type": "markdown",
   "id": "e94b6a8a",
   "metadata": {},
   "source": [
    "### Has the network latency gone up since we switched internet service providers?\n",
    "\n"
   ]
  },
  {
   "cell_type": "markdown",
   "id": "876da5a7",
   "metadata": {},
   "source": [
    "Ho: Latency has remained the same or descreased  \n",
    "Ha: Latency has increased\n",
    "\n",
    "Type 1 error: reject null hypothesis even though latency has not been affected  \n",
    "\n",
    "Type 2 error: we reject null hypothesis because we think there is no affect, but latency has actually slowed"
   ]
  },
  {
   "cell_type": "markdown",
   "id": "0b478416",
   "metadata": {},
   "source": [
    "### Is the website redesign any good?\n",
    "\n"
   ]
  },
  {
   "cell_type": "markdown",
   "id": "39679906",
   "metadata": {},
   "source": [
    "#### Has the traffic to the website gone up due to the redesign?\n",
    "\n",
    "Ho: The website redesign has no affect on website traffic  \n",
    "Ha: The website redesign has had an affect on website traffic  \n",
    "\n",
    "Type 1 error: reject any affect on traffic     \n",
    "\n",
    "Type 2 error: rejected traffic coming to website due to redesign when in actuality there is more engagement  "
   ]
  },
  {
   "cell_type": "markdown",
   "id": "1e1d78d6",
   "metadata": {},
   "source": [
    "### Is our television ad driving more sales?\n"
   ]
  },
  {
   "cell_type": "markdown",
   "id": "22bfd0b2",
   "metadata": {},
   "source": [
    "#### Is our television ad running in prime time television driving more sales?  \n",
    "\n",
    "Ho: Sales are not affected with this ad running in prime time  \n",
    "Ha: Sales are up due to this ad running in prime time  \n",
    "\n",
    "Type 1 error: reject that sales stay consistent during ad run in prime time  \n",
    "\n",
    "Type 2 error: reject change in sales but sales have risen  "
   ]
  },
  {
   "cell_type": "markdown",
   "id": "d887daf4",
   "metadata": {},
   "source": [
    "### Central Limit Theorem\n",
    "\n",
    "- A population (that is not necessarily normally distributed)\n",
    "- Taking samples (of sufficient size) will result in normally distributed sample means\n"
   ]
  },
  {
   "cell_type": "code",
   "execution_count": 252,
   "id": "6f72772c",
   "metadata": {},
   "outputs": [],
   "source": [
    "import numpy as np\n",
    "import seaborn as sns\n",
    "import scipy.stats as stats\n",
    "import pandas as pd\n",
    "import matplotlib.pyplot as plt\n",
    "from pydataset import data\n",
    "\n",
    "np.random.seed(123)\n",
    "\n",
    " "
   ]
  },
  {
   "cell_type": "code",
   "execution_count": 6,
   "id": "a352f8ed",
   "metadata": {},
   "outputs": [
    {
     "data": {
      "text/plain": [
       "array([[6, 3, 5, 3, 2, 4, 3, 4, 2, 2],\n",
       "       [1, 2, 2, 1, 1, 2, 4, 6, 5, 1],\n",
       "       [1, 5, 2, 4, 3, 5, 3, 5, 1, 6],\n",
       "       [1, 2, 4, 5, 5, 5, 2, 6, 4, 3]])"
      ]
     },
     "execution_count": 6,
     "metadata": {},
     "output_type": "execute_result"
    }
   ],
   "source": [
    "# define a roll [1,2,3,4,5,6]\n",
    "\n",
    "# set sample size of 10\n",
    "\n",
    "\n",
    "n_dice_per_experiment = ncols =10\n",
    "n_experiments = nrows = 100\n",
    "\n",
    "# 100 rows and 10 columns\n",
    "data = np.random.randint(1,7, (nrows, ncols))\n",
    "\n",
    "data[:4]"
   ]
  },
  {
   "cell_type": "code",
   "execution_count": 7,
   "id": "c3cc53e9",
   "metadata": {},
   "outputs": [
    {
     "data": {
      "text/plain": [
       "array([3.4, 2.5, 3.5, 3.7, 3.2, 4.7, 3.4, 3.2, 3.4, 3. , 3.7, 3.5, 4. ,\n",
       "       4.5, 2.9, 2.8, 2.9, 3.8, 3.2, 3.6, 3.4, 4. , 3.5, 3.3, 3.6, 3. ,\n",
       "       4.3, 3. , 3.3, 3.2, 4.2, 3.9, 3.2, 3.8, 3.6, 3.4, 2.7, 3.4, 3.2,\n",
       "       3.1, 3.2, 3. , 4.1, 3.3, 3. , 4.1, 3.4, 3.3, 2.9, 3.8, 3.4, 3.6,\n",
       "       3.9, 3.2, 4.7, 3.8, 3.5, 2.8, 3.8, 4.7, 4.1, 3.5, 2.8, 3.7, 3.4,\n",
       "       3.7, 3.6, 4.1, 3.6, 3.5, 2.9, 4. , 3.2, 3.4, 4.4, 2.9, 3.2, 3.9,\n",
       "       1.9, 3. , 3. , 3.5, 3.3, 4.4, 3.4, 4.2, 4.1, 3.2, 3.5, 3.5, 3.8,\n",
       "       3.1, 3.6, 2.9, 2.9, 4. , 3.3, 3.1, 3.4, 3.6])"
      ]
     },
     "execution_count": 7,
     "metadata": {},
     "output_type": "execute_result"
    }
   ],
   "source": [
    "calculated_averages = data.mean(axis=1)\n",
    "calculated_averages"
   ]
  },
  {
   "cell_type": "code",
   "execution_count": 8,
   "id": "ef06fcee",
   "metadata": {},
   "outputs": [
    {
     "data": {
      "text/plain": [
       "Text(0.5, 1.0, 'Outcome of averaging 10 dice rolls 100 times')"
      ]
     },
     "execution_count": 8,
     "metadata": {},
     "output_type": "execute_result"
    },
    {
     "data": {
      "image/png": "[encoded data removed]",
      "text/plain": [
       "<Figure size 640x480 with 1 Axes>"
      ]
     },
     "metadata": {},
     "output_type": "display_data"
    }
   ],
   "source": [
    "plt.hist(calculated_averages)\n",
    "plt.xlabel(f'Average of {n_dice_per_experiment} dice rolls')\n",
    "plt.ylabel('# of Occurances')\n",
    "plt.title(f'Outcome of averaging {n_dice_per_experiment} dice rolls {n_experiments} times')\n"
   ]
  },
  {
   "cell_type": "code",
   "execution_count": null,
   "id": "b2f1a141",
   "metadata": {},
   "outputs": [],
   "source": [
    "# one sample T-test\n",
    "\n",
    "1. plot distributions\n",
    "2. establish hypothesis\n",
    "\n",
    "# assumptions\n",
    "\n",
    "-Variance"
   ]
  },
  {
   "cell_type": "code",
   "execution_count": 19,
   "id": "a6105a14",
   "metadata": {},
   "outputs": [],
   "source": [
    "import env\n",
    "\n",
    "db_url = f'mysql+pymysql://{env.username}:{env.password}@{env.host}/telco_churn'\n",
    "df = pd.read_sql('SELECT * FROM customers', db_url)  \n",
    "\n"
   ]
  },
  {
   "cell_type": "code",
   "execution_count": 20,
   "id": "d43643ac",
   "metadata": {},
   "outputs": [
    {
     "data": {
      "text/plain": [
       "Index(['customer_id', 'gender', 'senior_citizen', 'partner', 'dependents',\n",
       "       'tenure', 'phone_service', 'multiple_lines', 'internet_service_type_id',\n",
       "       'online_security', 'online_backup', 'device_protection', 'tech_support',\n",
       "       'streaming_tv', 'streaming_movies', 'contract_type_id',\n",
       "       'paperless_billing', 'payment_type_id', 'monthly_charges',\n",
       "       'total_charges', 'churn'],\n",
       "      dtype='object')"
      ]
     },
     "execution_count": 20,
     "metadata": {},
     "output_type": "execute_result"
    }
   ],
   "source": [
    "df.columns\n"
   ]
  },
  {
   "cell_type": "code",
   "execution_count": 21,
   "id": "ea5bd558",
   "metadata": {},
   "outputs": [
    {
     "data": {
      "text/plain": [
       "<AxesSubplot:>"
      ]
     },
     "execution_count": 21,
     "metadata": {},
     "output_type": "execute_result"
    },
    {
     "data": {
      "image/png": "[encoded data removed]",
      "text/plain": [
       "<Figure size 640x480 with 1 Axes>"
      ]
     },
     "metadata": {},
     "output_type": "display_data"
    }
   ],
   "source": [
    "df.monthly_charges.hist()\n"
   ]
  },
  {
   "cell_type": "code",
   "execution_count": 22,
   "id": "25d29ec1",
   "metadata": {},
   "outputs": [
    {
     "data": {
      "text/plain": [
       "<AxesSubplot:>"
      ]
     },
     "execution_count": 22,
     "metadata": {},
     "output_type": "execute_result"
    },
    {
     "data": {
      "image/png": "[encoded data removed]",
      "text/plain": [
       "<Figure size 640x480 with 1 Axes>"
      ]
     },
     "metadata": {},
     "output_type": "display_data"
    }
   ],
   "source": [
    "# filter for a sample who churn\n",
    "\n",
    "churn_sample = df[df.churn == 'Yes'].monthly_charges\n",
    "\n",
    "churn_sample.hist()\n"
   ]
  },
  {
   "cell_type": "code",
   "execution_count": 24,
   "id": "3e0d283b",
   "metadata": {},
   "outputs": [],
   "source": [
    "## set hypothese\n",
    "H_0: mean of monthly charges of churned customers <= mean of monthly charges of all customers\n",
    "\n",
    "H_a: mean of monthly charges of churned customers > mean of monthly charges of all customers"
   ]
  },
  {
   "cell_type": "code",
   "execution_count": 2,
   "id": "ed8c7514",
   "metadata": {},
   "outputs": [],
   "source": [
    "## set alpha value\n",
    "\n",
    "alpha = .05"
   ]
  },
  {
   "cell_type": "code",
   "execution_count": 29,
   "id": "29c9e6c5",
   "metadata": {},
   "outputs": [
    {
     "data": {
      "text/plain": [
       "No     5174\n",
       "Yes    1869\n",
       "Name: churn, dtype: int64"
      ]
     },
     "execution_count": 29,
     "metadata": {},
     "output_type": "execute_result"
    }
   ],
   "source": [
    "df.churn.value_counts()\n",
    "\n"
   ]
  },
  {
   "cell_type": "code",
   "execution_count": 30,
   "id": "546ce6c1",
   "metadata": {},
   "outputs": [
    {
     "name": "stdout",
     "output_type": "stream",
     "text": [
      "16.96540308050567 1.8703196496911995e-60 0.05\n"
     ]
    }
   ],
   "source": [
    "churn_sample = df[df.churn == 'Yes'].monthly_charges\n",
    "overall_mean = df.monthly_charges.mean()\n",
    "\n",
    "t, p = stats.ttest_1samp(churn_sample, overall_mean)\n",
    "\n",
    "print(t, p/2, alpha)\n"
   ]
  },
  {
   "cell_type": "code",
   "execution_count": null,
   "id": "1bea1412",
   "metadata": {},
   "outputs": [],
   "source": [
    "# look at the t-statistic\n",
    "# is t > 0\n",
    "# look at the p/2\n",
    "# is p/2 < alpha\n",
    "\n"
   ]
  },
  {
   "cell_type": "code",
   "execution_count": 34,
   "id": "da217727",
   "metadata": {},
   "outputs": [
    {
     "name": "stdout",
     "output_type": "stream",
     "text": [
      "We reject $H_{0}$\n"
     ]
    }
   ],
   "source": [
    "if p/2 > alpha:\n",
    "    print(\"We fail to reject $H_{0}$\")\n",
    "elif t < 0:\n",
    "    print(\"We fail to reject $H_{0}$\")\n",
    "else:\n",
    "    print(\"We reject $H_{0}$\")\n"
   ]
  },
  {
   "cell_type": "code",
   "execution_count": 35,
   "id": "4e56060f",
   "metadata": {},
   "outputs": [
    {
     "name": "stdout",
     "output_type": "stream",
     "text": [
      "We reject the null hypothesis\n"
     ]
    }
   ],
   "source": [
    "# compare the calculated p-value to alpha\n",
    "\n",
    "p < alpha\n",
    "\n",
    "if p < alpha:\n",
    "    print('We reject the null hypothesis')\n",
    "else:\n",
    "    print('We fail to reject the null hypothese')\n",
    "    \n",
    "    "
   ]
  },
  {
   "cell_type": "code",
   "execution_count": 37,
   "id": "5d8aefce",
   "metadata": {},
   "outputs": [
    {
     "data": {
      "text/plain": [
       "<AxesSubplot:>"
      ]
     },
     "execution_count": 37,
     "metadata": {},
     "output_type": "execute_result"
    },
    {
     "data": {
      "image/png": "[encoded data removed]",
      "text/plain": [
       "<Figure size 640x480 with 1 Axes>"
      ]
     },
     "metadata": {},
     "output_type": "display_data"
    }
   ],
   "source": [
    "# independent t-test (a.k.a Two Sample t-test)   \n",
    "\n",
    "# Goal: Compare the mean of some Group A to that of Group B\n",
    "\n",
    "# Group A: Customer who churn\n",
    "\n",
    "# customer who churn\n",
    "churn_sample = df[df.churn == 'Yes'].monthly_charges\n",
    "\n",
    "churn_sample.hist()\n",
    "\n"
   ]
  },
  {
   "cell_type": "code",
   "execution_count": 38,
   "id": "07599b6e",
   "metadata": {},
   "outputs": [
    {
     "data": {
      "text/plain": [
       "<AxesSubplot:>"
      ]
     },
     "execution_count": 38,
     "metadata": {},
     "output_type": "execute_result"
    },
    {
     "data": {
      "image/png": "[encoded data removed]",
      "text/plain": [
       "<Figure size 640x480 with 1 Axes>"
      ]
     },
     "metadata": {},
     "output_type": "display_data"
    }
   ],
   "source": [
    "no_churn_sample = df[df.churn == 'No'].monthly_charges\n",
    "\n",
    "no_churn_sample.hist()"
   ]
  },
  {
   "cell_type": "markdown",
   "id": "f4861784",
   "metadata": {},
   "source": [
    "## CUSTOMER WHO CHURN ARE CHARGED MORE THAN CUSTOMERS WHO DO NOT CHURN\n",
    "\n",
    "### set hypothesis\n",
    "\n",
    "H_0: Group who churn <= Group who do not churn  \n",
    "H_a: Monthly charges of group who churn  > Monthly charges of group who do not churn"
   ]
  },
  {
   "cell_type": "code",
   "execution_count": 52,
   "id": "37d3f3da",
   "metadata": {},
   "outputs": [
    {
     "data": {
      "text/html": [
       "<div>\n",
       "<style scoped>\n",
       "    .dataframe tbody tr th:only-of-type {\n",
       "        vertical-align: middle;\n",
       "    }\n",
       "\n",
       "    .dataframe tbody tr th {\n",
       "        vertical-align: top;\n",
       "    }\n",
       "\n",
       "    .dataframe thead th {\n",
       "        text-align: right;\n",
       "    }\n",
       "</style>\n",
       "<table border=\"1\" class=\"dataframe\">\n",
       "  <thead>\n",
       "    <tr style=\"text-align: right;\">\n",
       "      <th></th>\n",
       "      <th>sepal_length</th>\n",
       "      <th>sepal_width</th>\n",
       "      <th>petal_length</th>\n",
       "      <th>petal_width</th>\n",
       "    </tr>\n",
       "  </thead>\n",
       "  <tbody>\n",
       "    <tr>\n",
       "      <th>count</th>\n",
       "      <td>150.000000</td>\n",
       "      <td>150.000000</td>\n",
       "      <td>150.000000</td>\n",
       "      <td>150.000000</td>\n",
       "    </tr>\n",
       "    <tr>\n",
       "      <th>mean</th>\n",
       "      <td>5.843333</td>\n",
       "      <td>3.057333</td>\n",
       "      <td>3.758000</td>\n",
       "      <td>1.199333</td>\n",
       "    </tr>\n",
       "    <tr>\n",
       "      <th>std</th>\n",
       "      <td>0.828066</td>\n",
       "      <td>0.435866</td>\n",
       "      <td>1.765298</td>\n",
       "      <td>0.762238</td>\n",
       "    </tr>\n",
       "    <tr>\n",
       "      <th>min</th>\n",
       "      <td>4.300000</td>\n",
       "      <td>2.000000</td>\n",
       "      <td>1.000000</td>\n",
       "      <td>0.100000</td>\n",
       "    </tr>\n",
       "    <tr>\n",
       "      <th>25%</th>\n",
       "      <td>5.100000</td>\n",
       "      <td>2.800000</td>\n",
       "      <td>1.600000</td>\n",
       "      <td>0.300000</td>\n",
       "    </tr>\n",
       "    <tr>\n",
       "      <th>50%</th>\n",
       "      <td>5.800000</td>\n",
       "      <td>3.000000</td>\n",
       "      <td>4.350000</td>\n",
       "      <td>1.300000</td>\n",
       "    </tr>\n",
       "    <tr>\n",
       "      <th>75%</th>\n",
       "      <td>6.400000</td>\n",
       "      <td>3.300000</td>\n",
       "      <td>5.100000</td>\n",
       "      <td>1.800000</td>\n",
       "    </tr>\n",
       "    <tr>\n",
       "      <th>max</th>\n",
       "      <td>7.900000</td>\n",
       "      <td>4.400000</td>\n",
       "      <td>6.900000</td>\n",
       "      <td>2.500000</td>\n",
       "    </tr>\n",
       "  </tbody>\n",
       "</table>\n",
       "</div>"
      ],
      "text/plain": [
       "       sepal_length  sepal_width  petal_length  petal_width\n",
       "count    150.000000   150.000000    150.000000   150.000000\n",
       "mean       5.843333     3.057333      3.758000     1.199333\n",
       "std        0.828066     0.435866      1.765298     0.762238\n",
       "min        4.300000     2.000000      1.000000     0.100000\n",
       "25%        5.100000     2.800000      1.600000     0.300000\n",
       "50%        5.800000     3.000000      4.350000     1.300000\n",
       "75%        6.400000     3.300000      5.100000     1.800000\n",
       "max        7.900000     4.400000      6.900000     2.500000"
      ]
     },
     "execution_count": 52,
     "metadata": {},
     "output_type": "execute_result"
    }
   ],
   "source": [
    "df = sns.load_dataset('iris')\n",
    "df.describe()\n"
   ]
  },
  {
   "cell_type": "code",
   "execution_count": 42,
   "id": "62d4ebae",
   "metadata": {},
   "outputs": [
    {
     "data": {
      "text/plain": [
       "setosa        50\n",
       "versicolor    50\n",
       "virginica     50\n",
       "Name: species, dtype: int64"
      ]
     },
     "execution_count": 42,
     "metadata": {},
     "output_type": "execute_result"
    }
   ],
   "source": [
    "df.species.value_counts()"
   ]
  },
  {
   "cell_type": "code",
   "execution_count": 49,
   "id": "469ab984",
   "metadata": {},
   "outputs": [
    {
     "data": {
      "text/plain": [
       "count    150.000000\n",
       "mean       5.843333\n",
       "std        0.828066\n",
       "min        4.300000\n",
       "25%        5.100000\n",
       "50%        5.800000\n",
       "75%        6.400000\n",
       "max        7.900000\n",
       "Name: sepal_length, dtype: float64"
      ]
     },
     "execution_count": 49,
     "metadata": {},
     "output_type": "execute_result"
    }
   ],
   "source": [
    "df.sepal_length.describe()\n"
   ]
  },
  {
   "cell_type": "code",
   "execution_count": 50,
   "id": "91b7efaa",
   "metadata": {},
   "outputs": [],
   "source": [
    "versicolor_sepal_length = df[df.species == 'versicolor'].sepal_length\n",
    "virginica_sepal_length = df[df.species == 'virginica'].sepal_length\n",
    "setosa_sepal_length = df[df.species == 'setosa'].sepal_length\n"
   ]
  },
  {
   "cell_type": "code",
   "execution_count": 58,
   "id": "a56fc1a3",
   "metadata": {},
   "outputs": [
    {
     "data": {
      "text/plain": [
       "<AxesSubplot:>"
      ]
     },
     "execution_count": 58,
     "metadata": {},
     "output_type": "execute_result"
    },
    {
     "data": {
      "image/png": "[encoded data removed]",
      "text/plain": [
       "<Figure size 640x480 with 1 Axes>"
      ]
     },
     "metadata": {},
     "output_type": "display_data"
    }
   ],
   "source": [
    "versicolor_sepal_length.hist()\n",
    "\n"
   ]
  },
  {
   "cell_type": "code",
   "execution_count": 55,
   "id": "03dc31ca",
   "metadata": {},
   "outputs": [
    {
     "data": {
      "text/plain": [
       "<AxesSubplot:>"
      ]
     },
     "execution_count": 55,
     "metadata": {},
     "output_type": "execute_result"
    },
    {
     "data": {
      "image/png": "[encoded data removed]",
      "text/plain": [
       "<Figure size 640x480 with 1 Axes>"
      ]
     },
     "metadata": {},
     "output_type": "display_data"
    }
   ],
   "source": [
    "virginica_sepal_length.hist()\n"
   ]
  },
  {
   "cell_type": "code",
   "execution_count": 56,
   "id": "c8c7a3d0",
   "metadata": {},
   "outputs": [
    {
     "data": {
      "text/plain": [
       "<AxesSubplot:>"
      ]
     },
     "execution_count": 56,
     "metadata": {},
     "output_type": "execute_result"
    },
    {
     "data": {
      "image/png": "[encoded data removed]",
      "text/plain": [
       "<Figure size 640x480 with 1 Axes>"
      ]
     },
     "metadata": {},
     "output_type": "display_data"
    }
   ],
   "source": [
    "setosa_sepal_length.hist()\n"
   ]
  },
  {
   "cell_type": "code",
   "execution_count": 62,
   "id": "662d67db",
   "metadata": {},
   "outputs": [
    {
     "data": {
      "text/plain": [
       "<AxesSubplot:>"
      ]
     },
     "execution_count": 62,
     "metadata": {},
     "output_type": "execute_result"
    },
    {
     "data": {
      "image/png": "[encoded data removed]",
      "text/plain": [
       "<Figure size 640x480 with 1 Axes>"
      ]
     },
     "metadata": {},
     "output_type": "display_data"
    }
   ],
   "source": [
    "versicolor_sepal_length.hist(alpha=.5)\n",
    "virginica_sepal_length.hist(alpha=.5)\n",
    "setosa_sepal_length.hist(alpha=.5)"
   ]
  },
  {
   "cell_type": "code",
   "execution_count": 151,
   "id": "28b2989c",
   "metadata": {},
   "outputs": [
    {
     "data": {
      "text/html": [
       "<div>\n",
       "<style scoped>\n",
       "    .dataframe tbody tr th:only-of-type {\n",
       "        vertical-align: middle;\n",
       "    }\n",
       "\n",
       "    .dataframe tbody tr th {\n",
       "        vertical-align: top;\n",
       "    }\n",
       "\n",
       "    .dataframe thead th {\n",
       "        text-align: right;\n",
       "    }\n",
       "</style>\n",
       "<table border=\"1\" class=\"dataframe\">\n",
       "  <thead>\n",
       "    <tr style=\"text-align: right;\">\n",
       "      <th></th>\n",
       "      <th>mpg</th>\n",
       "      <th>cylinders</th>\n",
       "      <th>displacement</th>\n",
       "      <th>horsepower</th>\n",
       "      <th>weight</th>\n",
       "      <th>acceleration</th>\n",
       "      <th>model_year</th>\n",
       "      <th>origin</th>\n",
       "      <th>name</th>\n",
       "    </tr>\n",
       "  </thead>\n",
       "  <tbody>\n",
       "    <tr>\n",
       "      <th>0</th>\n",
       "      <td>18.0</td>\n",
       "      <td>8</td>\n",
       "      <td>307.0</td>\n",
       "      <td>130.0</td>\n",
       "      <td>3504</td>\n",
       "      <td>12.0</td>\n",
       "      <td>70</td>\n",
       "      <td>usa</td>\n",
       "      <td>chevrolet chevelle malibu</td>\n",
       "    </tr>\n",
       "    <tr>\n",
       "      <th>1</th>\n",
       "      <td>15.0</td>\n",
       "      <td>8</td>\n",
       "      <td>350.0</td>\n",
       "      <td>165.0</td>\n",
       "      <td>3693</td>\n",
       "      <td>11.5</td>\n",
       "      <td>70</td>\n",
       "      <td>usa</td>\n",
       "      <td>buick skylark 320</td>\n",
       "    </tr>\n",
       "    <tr>\n",
       "      <th>2</th>\n",
       "      <td>18.0</td>\n",
       "      <td>8</td>\n",
       "      <td>318.0</td>\n",
       "      <td>150.0</td>\n",
       "      <td>3436</td>\n",
       "      <td>11.0</td>\n",
       "      <td>70</td>\n",
       "      <td>usa</td>\n",
       "      <td>plymouth satellite</td>\n",
       "    </tr>\n",
       "    <tr>\n",
       "      <th>3</th>\n",
       "      <td>16.0</td>\n",
       "      <td>8</td>\n",
       "      <td>304.0</td>\n",
       "      <td>150.0</td>\n",
       "      <td>3433</td>\n",
       "      <td>12.0</td>\n",
       "      <td>70</td>\n",
       "      <td>usa</td>\n",
       "      <td>amc rebel sst</td>\n",
       "    </tr>\n",
       "    <tr>\n",
       "      <th>4</th>\n",
       "      <td>17.0</td>\n",
       "      <td>8</td>\n",
       "      <td>302.0</td>\n",
       "      <td>140.0</td>\n",
       "      <td>3449</td>\n",
       "      <td>10.5</td>\n",
       "      <td>70</td>\n",
       "      <td>usa</td>\n",
       "      <td>ford torino</td>\n",
       "    </tr>\n",
       "  </tbody>\n",
       "</table>\n",
       "</div>"
      ],
      "text/plain": [
       "    mpg  cylinders  displacement  horsepower  weight  acceleration  \\\n",
       "0  18.0          8         307.0       130.0    3504          12.0   \n",
       "1  15.0          8         350.0       165.0    3693          11.5   \n",
       "2  18.0          8         318.0       150.0    3436          11.0   \n",
       "3  16.0          8         304.0       150.0    3433          12.0   \n",
       "4  17.0          8         302.0       140.0    3449          10.5   \n",
       "\n",
       "   model_year origin                       name  \n",
       "0          70    usa  chevrolet chevelle malibu  \n",
       "1          70    usa          buick skylark 320  \n",
       "2          70    usa         plymouth satellite  \n",
       "3          70    usa              amc rebel sst  \n",
       "4          70    usa                ford torino  "
      ]
     },
     "execution_count": 151,
     "metadata": {},
     "output_type": "execute_result"
    }
   ],
   "source": [
    "mpg1 = sns.load_dataset('mpg')\n",
    "mpg1.head()\n"
   ]
  },
  {
   "cell_type": "code",
   "execution_count": 152,
   "id": "052b21bc",
   "metadata": {},
   "outputs": [
    {
     "data": {
      "text/plain": [
       "mpg             0\n",
       "cylinders       0\n",
       "displacement    0\n",
       "horsepower      6\n",
       "weight          0\n",
       "acceleration    0\n",
       "model_year      0\n",
       "origin          0\n",
       "name            0\n",
       "dtype: int64"
      ]
     },
     "execution_count": 152,
     "metadata": {},
     "output_type": "execute_result"
    }
   ],
   "source": [
    "#nulls anywhere?\n",
    "mpg1.isna().sum()"
   ]
  },
  {
   "cell_type": "code",
   "execution_count": 153,
   "id": "3ca0edd9",
   "metadata": {},
   "outputs": [
    {
     "data": {
      "text/plain": [
       "mpg             0\n",
       "cylinders       0\n",
       "displacement    0\n",
       "horsepower      0\n",
       "weight          0\n",
       "acceleration    0\n",
       "model_year      0\n",
       "origin          0\n",
       "name            0\n",
       "dtype: int64"
      ]
     },
     "execution_count": 153,
     "metadata": {},
     "output_type": "execute_result"
    }
   ],
   "source": [
    "# drop nulls\n",
    "mpg1 = mpg1[~mpg1.horsepower.isna()]\n",
    "mpg1.isna().sum()"
   ]
  },
  {
   "cell_type": "code",
   "execution_count": 154,
   "id": "2b9cdf23",
   "metadata": {},
   "outputs": [
    {
     "data": {
      "text/plain": [
       "usa       245\n",
       "japan      79\n",
       "europe     68\n",
       "Name: origin, dtype: int64"
      ]
     },
     "execution_count": 154,
     "metadata": {},
     "output_type": "execute_result"
    }
   ],
   "source": [
    "mpg1.origin.value_counts()"
   ]
  },
  {
   "cell_type": "markdown",
   "id": "399ca98f",
   "metadata": {},
   "source": [
    "#### is horsepower of vehicles different across the distinct origins of the vehicles?\n",
    "\n",
    "$H_{0}$: mean_horsepower_USA = mean_horsepower_JPN = mean_horsepower_EUR  \n",
    "$H_{a}$: mean horsepowers from at least 2 countries are significantlly different\n",
    "\n",
    "Assumptions  \n",
    "1. At least 30 observations: met (see value counts above)  \n",
    "2. Equal population variance across all 3 groups  \n",
    "3. Groups are independent of each other  "
   ]
  },
  {
   "cell_type": "code",
   "execution_count": 155,
   "id": "ba3ebf56",
   "metadata": {},
   "outputs": [
    {
     "data": {
      "text/plain": [
       "<AxesSubplot:>"
      ]
     },
     "execution_count": 155,
     "metadata": {},
     "output_type": "execute_result"
    },
    {
     "data": {
      "image/png": "[encoded data removed]",
      "text/plain": [
       "<Figure size 640x480 with 1 Axes>"
      ]
     },
     "metadata": {},
     "output_type": "display_data"
    }
   ],
   "source": [
    "# lets look at the values of each of these and the histograms\n",
    "\n",
    "mpg1[mpg1.origin=='usa'].horsepower.hist()\n",
    "mpg1[mpg1.origin=='japan'].horsepower.hist()\n",
    "mpg1[mpg1.origin=='europe'].horsepower.hist()"
   ]
  },
  {
   "cell_type": "code",
   "execution_count": 156,
   "id": "f79f7e92",
   "metadata": {},
   "outputs": [],
   "source": [
    "# creating a series of horsepower for each country\n",
    "usa = mpg1[mpg1.origin == 'usa'].horsepower\n",
    "japan = mpg1[mpg1.origin == 'japan'].horsepower\n",
    "europe = mpg1[mpg1.origin == 'europe'].horsepower"
   ]
  },
  {
   "cell_type": "code",
   "execution_count": 157,
   "id": "6a82baea",
   "metadata": {},
   "outputs": [
    {
     "data": {
      "text/plain": [
       "LeveneResult(statistic=26.526632103545772, pvalue=1.5863075873913356e-11)"
      ]
     },
     "execution_count": 157,
     "metadata": {},
     "output_type": "execute_result"
    }
   ],
   "source": [
    "# validate the variance assumption\n",
    "\n",
    "stats.levene(usa, japan, europe)"
   ]
  },
  {
   "cell_type": "markdown",
   "id": "d4010b82",
   "metadata": {},
   "source": [
    "With low p-value, we can assume the variances of the countries horsepower is significantly different\n",
    "across at least 2 of the countries\n",
    "With this information, we should not use the ANOVA test, but should instead use Kruskal-Wallis"
   ]
  },
  {
   "cell_type": "code",
   "execution_count": 81,
   "id": "d3e35c9d",
   "metadata": {},
   "outputs": [],
   "source": [
    "test_statistic, p_value = stats.kruskal(usa,japan,europe)"
   ]
  },
  {
   "cell_type": "code",
   "execution_count": 82,
   "id": "93eb21d0",
   "metadata": {},
   "outputs": [
    {
     "data": {
      "text/plain": [
       "1.1759521262123952e-23"
      ]
     },
     "execution_count": 82,
     "metadata": {},
     "output_type": "execute_result"
    }
   ],
   "source": [
    "p_value"
   ]
  },
  {
   "cell_type": "markdown",
   "id": "2a6bf7a3",
   "metadata": {},
   "source": [
    "With p-value < 0.05 (alpha) we can say there exists a significant difference between the horsepower of vehicles in \n",
    "at 2 of the countries. But which 2?\n",
    "\n",
    "Compare 2 groups, usa and japan\n",
    "\n",
    "H_0: hp_usa == hp_japan  \n",
    "H_a: hp_usa != hp_japan"
   ]
  },
  {
   "cell_type": "code",
   "execution_count": 85,
   "id": "559a8eab",
   "metadata": {},
   "outputs": [
    {
     "name": "stdout",
     "output_type": "stream",
     "text": [
      "There is a significant difference between the horsepower of vehicles in the USA vs JAPAN\n"
     ]
    }
   ],
   "source": [
    "t, p = stats.ttest_ind(usa,japan, equal_var=False)\n",
    "\n",
    "if p < 0.05:\n",
    "    print('There is a significant difference between the horsepower of vehicles in the USA vs JAPAN')\n",
    "else:\n",
    "    print('We failed to find a significant difference')"
   ]
  },
  {
   "cell_type": "code",
   "execution_count": 89,
   "id": "d41ebb04",
   "metadata": {},
   "outputs": [
    {
     "name": "stdout",
     "output_type": "stream",
     "text": [
      "There is a significant difference between the horsepower of vehicles in the USA vs EUROPE. (p-value: 2.1065705369888018e-22)\n"
     ]
    }
   ],
   "source": [
    "t, p = stats.ttest_ind(usa,europe, equal_var=False)\n",
    "\n",
    "if p < 0.05:\n",
    "    print(f'There is a significant difference between the horsepower of vehicles in the USA vs EUROPE. (p-value: {p})')\n",
    "else:\n",
    "    print('We failed to find a significant difference')"
   ]
  },
  {
   "cell_type": "code",
   "execution_count": 94,
   "id": "79850484",
   "metadata": {},
   "outputs": [
    {
     "name": "stdout",
     "output_type": "stream",
     "text": [
      "We failed to find a significant difference (p-value: 0.8193616065509621)\n"
     ]
    }
   ],
   "source": [
    "t, p = stats.ttest_ind(europe,japan, equal_var=False)\n",
    "\n",
    "if p < 0.05:\n",
    "    print('There is a significant difference between the horsepower of vehicles in the EUROPE vs JAPAN')\n",
    "else:\n",
    "    print(f'We failed to find a significant difference (p-value: {p})')"
   ]
  },
  {
   "cell_type": "markdown",
   "id": "ef52f2d3",
   "metadata": {},
   "source": [
    "### Answer with the type of test you would use (assume normal distribution):\n",
    "\n",
    "##### Is there a difference in grades of students on the second floor compared to grades of all students?  \n",
    "  \n",
    "\n",
    "   \n"
   ]
  },
  {
   "cell_type": "markdown",
   "id": "0fe0e4d0",
   "metadata": {},
   "source": [
    "one sample t test, 2 tail"
   ]
  },
  {
   "cell_type": "markdown",
   "id": "347aab29",
   "metadata": {},
   "source": [
    "##### Are adults who drink milk taller than adults who dont drink milk?"
   ]
  },
  {
   "cell_type": "markdown",
   "id": "0d7dcd26",
   "metadata": {},
   "source": [
    "independent t test, 1 tail"
   ]
  },
  {
   "cell_type": "markdown",
   "id": "78f8be1a",
   "metadata": {},
   "source": [
    "##### Is the the price of gas higher in texas or in new mexico?  "
   ]
  },
  {
   "cell_type": "markdown",
   "id": "ccc509bc",
   "metadata": {},
   "source": [
    "independent t test, 1 tail"
   ]
  },
  {
   "cell_type": "markdown",
   "id": "618d94a2",
   "metadata": {},
   "source": [
    "##### Are there differences in stress levels between students who take data science vs students who take web development vs students who take cloud academy?"
   ]
  },
  {
   "cell_type": "markdown",
   "id": "2201c87b",
   "metadata": {},
   "source": [
    "ANOVA test"
   ]
  },
  {
   "cell_type": "markdown",
   "id": "cb7a5d18",
   "metadata": {},
   "source": [
    "Load the mpg dataset and use it to answer the following questions:  \n",
    "\n",
    "Is there a difference in fuel-efficiency in cars from 2008 vs 1999?  \n",
    "independent t-test"
   ]
  },
  {
   "cell_type": "code",
   "execution_count": 158,
   "id": "d6126d1e",
   "metadata": {},
   "outputs": [
    {
     "data": {
      "text/html": [
       "<div>\n",
       "<style scoped>\n",
       "    .dataframe tbody tr th:only-of-type {\n",
       "        vertical-align: middle;\n",
       "    }\n",
       "\n",
       "    .dataframe tbody tr th {\n",
       "        vertical-align: top;\n",
       "    }\n",
       "\n",
       "    .dataframe thead th {\n",
       "        text-align: right;\n",
       "    }\n",
       "</style>\n",
       "<table border=\"1\" class=\"dataframe\">\n",
       "  <thead>\n",
       "    <tr style=\"text-align: right;\">\n",
       "      <th></th>\n",
       "      <th>manufacturer</th>\n",
       "      <th>model</th>\n",
       "      <th>displ</th>\n",
       "      <th>year</th>\n",
       "      <th>cyl</th>\n",
       "      <th>trans</th>\n",
       "      <th>drv</th>\n",
       "      <th>cty</th>\n",
       "      <th>hwy</th>\n",
       "      <th>fl</th>\n",
       "      <th>class</th>\n",
       "    </tr>\n",
       "  </thead>\n",
       "  <tbody>\n",
       "    <tr>\n",
       "      <th>1</th>\n",
       "      <td>audi</td>\n",
       "      <td>a4</td>\n",
       "      <td>1.8</td>\n",
       "      <td>1999</td>\n",
       "      <td>4</td>\n",
       "      <td>auto(l5)</td>\n",
       "      <td>f</td>\n",
       "      <td>18</td>\n",
       "      <td>29</td>\n",
       "      <td>p</td>\n",
       "      <td>compact</td>\n",
       "    </tr>\n",
       "    <tr>\n",
       "      <th>2</th>\n",
       "      <td>audi</td>\n",
       "      <td>a4</td>\n",
       "      <td>1.8</td>\n",
       "      <td>1999</td>\n",
       "      <td>4</td>\n",
       "      <td>manual(m5)</td>\n",
       "      <td>f</td>\n",
       "      <td>21</td>\n",
       "      <td>29</td>\n",
       "      <td>p</td>\n",
       "      <td>compact</td>\n",
       "    </tr>\n",
       "    <tr>\n",
       "      <th>3</th>\n",
       "      <td>audi</td>\n",
       "      <td>a4</td>\n",
       "      <td>2.0</td>\n",
       "      <td>2008</td>\n",
       "      <td>4</td>\n",
       "      <td>manual(m6)</td>\n",
       "      <td>f</td>\n",
       "      <td>20</td>\n",
       "      <td>31</td>\n",
       "      <td>p</td>\n",
       "      <td>compact</td>\n",
       "    </tr>\n",
       "    <tr>\n",
       "      <th>4</th>\n",
       "      <td>audi</td>\n",
       "      <td>a4</td>\n",
       "      <td>2.0</td>\n",
       "      <td>2008</td>\n",
       "      <td>4</td>\n",
       "      <td>auto(av)</td>\n",
       "      <td>f</td>\n",
       "      <td>21</td>\n",
       "      <td>30</td>\n",
       "      <td>p</td>\n",
       "      <td>compact</td>\n",
       "    </tr>\n",
       "    <tr>\n",
       "      <th>5</th>\n",
       "      <td>audi</td>\n",
       "      <td>a4</td>\n",
       "      <td>2.8</td>\n",
       "      <td>1999</td>\n",
       "      <td>6</td>\n",
       "      <td>auto(l5)</td>\n",
       "      <td>f</td>\n",
       "      <td>16</td>\n",
       "      <td>26</td>\n",
       "      <td>p</td>\n",
       "      <td>compact</td>\n",
       "    </tr>\n",
       "    <tr>\n",
       "      <th>...</th>\n",
       "      <td>...</td>\n",
       "      <td>...</td>\n",
       "      <td>...</td>\n",
       "      <td>...</td>\n",
       "      <td>...</td>\n",
       "      <td>...</td>\n",
       "      <td>...</td>\n",
       "      <td>...</td>\n",
       "      <td>...</td>\n",
       "      <td>...</td>\n",
       "      <td>...</td>\n",
       "    </tr>\n",
       "    <tr>\n",
       "      <th>230</th>\n",
       "      <td>volkswagen</td>\n",
       "      <td>passat</td>\n",
       "      <td>2.0</td>\n",
       "      <td>2008</td>\n",
       "      <td>4</td>\n",
       "      <td>auto(s6)</td>\n",
       "      <td>f</td>\n",
       "      <td>19</td>\n",
       "      <td>28</td>\n",
       "      <td>p</td>\n",
       "      <td>midsize</td>\n",
       "    </tr>\n",
       "    <tr>\n",
       "      <th>231</th>\n",
       "      <td>volkswagen</td>\n",
       "      <td>passat</td>\n",
       "      <td>2.0</td>\n",
       "      <td>2008</td>\n",
       "      <td>4</td>\n",
       "      <td>manual(m6)</td>\n",
       "      <td>f</td>\n",
       "      <td>21</td>\n",
       "      <td>29</td>\n",
       "      <td>p</td>\n",
       "      <td>midsize</td>\n",
       "    </tr>\n",
       "    <tr>\n",
       "      <th>232</th>\n",
       "      <td>volkswagen</td>\n",
       "      <td>passat</td>\n",
       "      <td>2.8</td>\n",
       "      <td>1999</td>\n",
       "      <td>6</td>\n",
       "      <td>auto(l5)</td>\n",
       "      <td>f</td>\n",
       "      <td>16</td>\n",
       "      <td>26</td>\n",
       "      <td>p</td>\n",
       "      <td>midsize</td>\n",
       "    </tr>\n",
       "    <tr>\n",
       "      <th>233</th>\n",
       "      <td>volkswagen</td>\n",
       "      <td>passat</td>\n",
       "      <td>2.8</td>\n",
       "      <td>1999</td>\n",
       "      <td>6</td>\n",
       "      <td>manual(m5)</td>\n",
       "      <td>f</td>\n",
       "      <td>18</td>\n",
       "      <td>26</td>\n",
       "      <td>p</td>\n",
       "      <td>midsize</td>\n",
       "    </tr>\n",
       "    <tr>\n",
       "      <th>234</th>\n",
       "      <td>volkswagen</td>\n",
       "      <td>passat</td>\n",
       "      <td>3.6</td>\n",
       "      <td>2008</td>\n",
       "      <td>6</td>\n",
       "      <td>auto(s6)</td>\n",
       "      <td>f</td>\n",
       "      <td>17</td>\n",
       "      <td>26</td>\n",
       "      <td>p</td>\n",
       "      <td>midsize</td>\n",
       "    </tr>\n",
       "  </tbody>\n",
       "</table>\n",
       "<p>234 rows × 11 columns</p>\n",
       "</div>"
      ],
      "text/plain": [
       "    manufacturer   model  displ  year  cyl       trans drv  cty  hwy fl  \\\n",
       "1           audi      a4    1.8  1999    4    auto(l5)   f   18   29  p   \n",
       "2           audi      a4    1.8  1999    4  manual(m5)   f   21   29  p   \n",
       "3           audi      a4    2.0  2008    4  manual(m6)   f   20   31  p   \n",
       "4           audi      a4    2.0  2008    4    auto(av)   f   21   30  p   \n",
       "5           audi      a4    2.8  1999    6    auto(l5)   f   16   26  p   \n",
       "..           ...     ...    ...   ...  ...         ...  ..  ...  ... ..   \n",
       "230   volkswagen  passat    2.0  2008    4    auto(s6)   f   19   28  p   \n",
       "231   volkswagen  passat    2.0  2008    4  manual(m6)   f   21   29  p   \n",
       "232   volkswagen  passat    2.8  1999    6    auto(l5)   f   16   26  p   \n",
       "233   volkswagen  passat    2.8  1999    6  manual(m5)   f   18   26  p   \n",
       "234   volkswagen  passat    3.6  2008    6    auto(s6)   f   17   26  p   \n",
       "\n",
       "       class  \n",
       "1    compact  \n",
       "2    compact  \n",
       "3    compact  \n",
       "4    compact  \n",
       "5    compact  \n",
       "..       ...  \n",
       "230  midsize  \n",
       "231  midsize  \n",
       "232  midsize  \n",
       "233  midsize  \n",
       "234  midsize  \n",
       "\n",
       "[234 rows x 11 columns]"
      ]
     },
     "execution_count": 158,
     "metadata": {},
     "output_type": "execute_result"
    }
   ],
   "source": [
    "mpg = data('mpg')\n",
    "mpg"
   ]
  },
  {
   "cell_type": "code",
   "execution_count": 159,
   "id": "969cd9cb",
   "metadata": {},
   "outputs": [
    {
     "data": {
      "text/plain": [
       "1999    117\n",
       "2008    117\n",
       "Name: year, dtype: int64"
      ]
     },
     "execution_count": 159,
     "metadata": {},
     "output_type": "execute_result"
    }
   ],
   "source": [
    "\n",
    "mpg['year'].value_counts()\n"
   ]
  },
  {
   "cell_type": "code",
   "execution_count": 160,
   "id": "3d024600",
   "metadata": {},
   "outputs": [
    {
     "data": {
      "text/html": [
       "<div>\n",
       "<style scoped>\n",
       "    .dataframe tbody tr th:only-of-type {\n",
       "        vertical-align: middle;\n",
       "    }\n",
       "\n",
       "    .dataframe tbody tr th {\n",
       "        vertical-align: top;\n",
       "    }\n",
       "\n",
       "    .dataframe thead th {\n",
       "        text-align: right;\n",
       "    }\n",
       "</style>\n",
       "<table border=\"1\" class=\"dataframe\">\n",
       "  <thead>\n",
       "    <tr style=\"text-align: right;\">\n",
       "      <th></th>\n",
       "      <th>manufacturer</th>\n",
       "      <th>model</th>\n",
       "      <th>displ</th>\n",
       "      <th>year</th>\n",
       "      <th>cyl</th>\n",
       "      <th>trans</th>\n",
       "      <th>drv</th>\n",
       "      <th>cty</th>\n",
       "      <th>hwy</th>\n",
       "      <th>fl</th>\n",
       "      <th>class</th>\n",
       "      <th>average_mileage</th>\n",
       "    </tr>\n",
       "  </thead>\n",
       "  <tbody>\n",
       "    <tr>\n",
       "      <th>1</th>\n",
       "      <td>audi</td>\n",
       "      <td>a4</td>\n",
       "      <td>1.8</td>\n",
       "      <td>1999</td>\n",
       "      <td>4</td>\n",
       "      <td>auto(l5)</td>\n",
       "      <td>f</td>\n",
       "      <td>18</td>\n",
       "      <td>29</td>\n",
       "      <td>p</td>\n",
       "      <td>compact</td>\n",
       "      <td>23.5</td>\n",
       "    </tr>\n",
       "    <tr>\n",
       "      <th>2</th>\n",
       "      <td>audi</td>\n",
       "      <td>a4</td>\n",
       "      <td>1.8</td>\n",
       "      <td>1999</td>\n",
       "      <td>4</td>\n",
       "      <td>manual(m5)</td>\n",
       "      <td>f</td>\n",
       "      <td>21</td>\n",
       "      <td>29</td>\n",
       "      <td>p</td>\n",
       "      <td>compact</td>\n",
       "      <td>25.0</td>\n",
       "    </tr>\n",
       "    <tr>\n",
       "      <th>3</th>\n",
       "      <td>audi</td>\n",
       "      <td>a4</td>\n",
       "      <td>2.0</td>\n",
       "      <td>2008</td>\n",
       "      <td>4</td>\n",
       "      <td>manual(m6)</td>\n",
       "      <td>f</td>\n",
       "      <td>20</td>\n",
       "      <td>31</td>\n",
       "      <td>p</td>\n",
       "      <td>compact</td>\n",
       "      <td>25.5</td>\n",
       "    </tr>\n",
       "    <tr>\n",
       "      <th>4</th>\n",
       "      <td>audi</td>\n",
       "      <td>a4</td>\n",
       "      <td>2.0</td>\n",
       "      <td>2008</td>\n",
       "      <td>4</td>\n",
       "      <td>auto(av)</td>\n",
       "      <td>f</td>\n",
       "      <td>21</td>\n",
       "      <td>30</td>\n",
       "      <td>p</td>\n",
       "      <td>compact</td>\n",
       "      <td>25.5</td>\n",
       "    </tr>\n",
       "    <tr>\n",
       "      <th>5</th>\n",
       "      <td>audi</td>\n",
       "      <td>a4</td>\n",
       "      <td>2.8</td>\n",
       "      <td>1999</td>\n",
       "      <td>6</td>\n",
       "      <td>auto(l5)</td>\n",
       "      <td>f</td>\n",
       "      <td>16</td>\n",
       "      <td>26</td>\n",
       "      <td>p</td>\n",
       "      <td>compact</td>\n",
       "      <td>21.0</td>\n",
       "    </tr>\n",
       "    <tr>\n",
       "      <th>...</th>\n",
       "      <td>...</td>\n",
       "      <td>...</td>\n",
       "      <td>...</td>\n",
       "      <td>...</td>\n",
       "      <td>...</td>\n",
       "      <td>...</td>\n",
       "      <td>...</td>\n",
       "      <td>...</td>\n",
       "      <td>...</td>\n",
       "      <td>...</td>\n",
       "      <td>...</td>\n",
       "      <td>...</td>\n",
       "    </tr>\n",
       "    <tr>\n",
       "      <th>230</th>\n",
       "      <td>volkswagen</td>\n",
       "      <td>passat</td>\n",
       "      <td>2.0</td>\n",
       "      <td>2008</td>\n",
       "      <td>4</td>\n",
       "      <td>auto(s6)</td>\n",
       "      <td>f</td>\n",
       "      <td>19</td>\n",
       "      <td>28</td>\n",
       "      <td>p</td>\n",
       "      <td>midsize</td>\n",
       "      <td>23.5</td>\n",
       "    </tr>\n",
       "    <tr>\n",
       "      <th>231</th>\n",
       "      <td>volkswagen</td>\n",
       "      <td>passat</td>\n",
       "      <td>2.0</td>\n",
       "      <td>2008</td>\n",
       "      <td>4</td>\n",
       "      <td>manual(m6)</td>\n",
       "      <td>f</td>\n",
       "      <td>21</td>\n",
       "      <td>29</td>\n",
       "      <td>p</td>\n",
       "      <td>midsize</td>\n",
       "      <td>25.0</td>\n",
       "    </tr>\n",
       "    <tr>\n",
       "      <th>232</th>\n",
       "      <td>volkswagen</td>\n",
       "      <td>passat</td>\n",
       "      <td>2.8</td>\n",
       "      <td>1999</td>\n",
       "      <td>6</td>\n",
       "      <td>auto(l5)</td>\n",
       "      <td>f</td>\n",
       "      <td>16</td>\n",
       "      <td>26</td>\n",
       "      <td>p</td>\n",
       "      <td>midsize</td>\n",
       "      <td>21.0</td>\n",
       "    </tr>\n",
       "    <tr>\n",
       "      <th>233</th>\n",
       "      <td>volkswagen</td>\n",
       "      <td>passat</td>\n",
       "      <td>2.8</td>\n",
       "      <td>1999</td>\n",
       "      <td>6</td>\n",
       "      <td>manual(m5)</td>\n",
       "      <td>f</td>\n",
       "      <td>18</td>\n",
       "      <td>26</td>\n",
       "      <td>p</td>\n",
       "      <td>midsize</td>\n",
       "      <td>22.0</td>\n",
       "    </tr>\n",
       "    <tr>\n",
       "      <th>234</th>\n",
       "      <td>volkswagen</td>\n",
       "      <td>passat</td>\n",
       "      <td>3.6</td>\n",
       "      <td>2008</td>\n",
       "      <td>6</td>\n",
       "      <td>auto(s6)</td>\n",
       "      <td>f</td>\n",
       "      <td>17</td>\n",
       "      <td>26</td>\n",
       "      <td>p</td>\n",
       "      <td>midsize</td>\n",
       "      <td>21.5</td>\n",
       "    </tr>\n",
       "  </tbody>\n",
       "</table>\n",
       "<p>234 rows × 12 columns</p>\n",
       "</div>"
      ],
      "text/plain": [
       "    manufacturer   model  displ  year  cyl       trans drv  cty  hwy fl  \\\n",
       "1           audi      a4    1.8  1999    4    auto(l5)   f   18   29  p   \n",
       "2           audi      a4    1.8  1999    4  manual(m5)   f   21   29  p   \n",
       "3           audi      a4    2.0  2008    4  manual(m6)   f   20   31  p   \n",
       "4           audi      a4    2.0  2008    4    auto(av)   f   21   30  p   \n",
       "5           audi      a4    2.8  1999    6    auto(l5)   f   16   26  p   \n",
       "..           ...     ...    ...   ...  ...         ...  ..  ...  ... ..   \n",
       "230   volkswagen  passat    2.0  2008    4    auto(s6)   f   19   28  p   \n",
       "231   volkswagen  passat    2.0  2008    4  manual(m6)   f   21   29  p   \n",
       "232   volkswagen  passat    2.8  1999    6    auto(l5)   f   16   26  p   \n",
       "233   volkswagen  passat    2.8  1999    6  manual(m5)   f   18   26  p   \n",
       "234   volkswagen  passat    3.6  2008    6    auto(s6)   f   17   26  p   \n",
       "\n",
       "       class  average_mileage  \n",
       "1    compact             23.5  \n",
       "2    compact             25.0  \n",
       "3    compact             25.5  \n",
       "4    compact             25.5  \n",
       "5    compact             21.0  \n",
       "..       ...              ...  \n",
       "230  midsize             23.5  \n",
       "231  midsize             25.0  \n",
       "232  midsize             21.0  \n",
       "233  midsize             22.0  \n",
       "234  midsize             21.5  \n",
       "\n",
       "[234 rows x 12 columns]"
      ]
     },
     "execution_count": 160,
     "metadata": {},
     "output_type": "execute_result"
    }
   ],
   "source": [
    "mpg['average_mileage'] = (mpg.cty + mpg.hwy) / 2\n",
    "mpg"
   ]
  },
  {
   "cell_type": "code",
   "execution_count": 261,
   "id": "e3a0bd34",
   "metadata": {},
   "outputs": [
    {
     "data": {
      "text/plain": [
       "year\n",
       "1999    20.222222\n",
       "2008    20.076923\n",
       "Name: average_mileage, dtype: float64"
      ]
     },
     "execution_count": 261,
     "metadata": {},
     "output_type": "execute_result"
    }
   ],
   "source": [
    "mpg.groupby('year')['average_mileage'].mean()\n"
   ]
  },
  {
   "cell_type": "markdown",
   "id": "9c3ab874",
   "metadata": {},
   "source": [
    "Null: there is no difference in fuel eff between cars made in 2008 and 1999  \n",
    "Alternative: there is a significant difference in fuel eff between cars made in 2008 and 1999"
   ]
  },
  {
   "cell_type": "code",
   "execution_count": 189,
   "id": "56ec1b7d",
   "metadata": {},
   "outputs": [],
   "source": [
    "fuel_e_08 = mpg[mpg.year == 2008].average_mileage\n",
    "fuel_e_99 = mpg[mpg.year == 1999].average_mileage\n"
   ]
  },
  {
   "cell_type": "code",
   "execution_count": 188,
   "id": "15689fc5",
   "metadata": {
    "scrolled": false
   },
   "outputs": [
    {
     "data": {
      "text/plain": [
       "<AxesSubplot:>"
      ]
     },
     "execution_count": 188,
     "metadata": {},
     "output_type": "execute_result"
    },
    {
     "data": {
      "image/png": "[encoded data removed]",
      "text/plain": [
       "<Figure size 640x480 with 1 Axes>"
      ]
     },
     "metadata": {},
     "output_type": "display_data"
    }
   ],
   "source": [
    "mpg[mpg.year == 2008].average_mileage.hist(alpha=.5)\n",
    "mpg[mpg.year == 1999].average_mileage.hist(alpha=.5)"
   ]
  },
  {
   "cell_type": "code",
   "execution_count": 269,
   "id": "f0a1b545",
   "metadata": {},
   "outputs": [],
   "source": [
    "test_statistic, p_value = stats.kruskal(fuel_e_08, fuel_e_99)"
   ]
  },
  {
   "cell_type": "code",
   "execution_count": 270,
   "id": "4ba1ccc6",
   "metadata": {},
   "outputs": [
    {
     "data": {
      "text/plain": [
       "0.7482541485808683"
      ]
     },
     "execution_count": 270,
     "metadata": {},
     "output_type": "execute_result"
    }
   ],
   "source": [
    "p_value"
   ]
  },
  {
   "cell_type": "code",
   "execution_count": 271,
   "id": "b3d6ddaf",
   "metadata": {},
   "outputs": [
    {
     "name": "stdout",
     "output_type": "stream",
     "text": [
      "We failed to reject null (p-value: 0.8263750772060638)\n"
     ]
    }
   ],
   "source": [
    "alpha = .05\n",
    "\n",
    "t, p = stats.ttest_ind(fuel_e_08, fuel_e_99, equal_var=False)\n",
    "\n",
    "if p < 0.05:\n",
    "    print('Reject Null')\n",
    "else:\n",
    "    print(f'We failed to reject null (p-value: {p})')"
   ]
  },
  {
   "cell_type": "markdown",
   "id": "30234105",
   "metadata": {},
   "source": [
    "Takeaway: we failed to rejected the null hypothesis, and there is no significant difference bwtween fuel eff between cars made in 1999 and 2008"
   ]
  },
  {
   "cell_type": "markdown",
   "id": "3040fc71",
   "metadata": {},
   "source": [
    "Are compact cars more fuel-efficient than the average car?  \n",
    "1 sample t test  \n",
    "1 tail\n",
    "\n",
    "Null: compact cars are not more effienct than the average car  \n",
    "Alternative: compact cars are more effienct than the average car"
   ]
  },
  {
   "cell_type": "code",
   "execution_count": 272,
   "id": "4b4e2436",
   "metadata": {},
   "outputs": [
    {
     "data": {
      "text/plain": [
       "class\n",
       "2seater       20.100000\n",
       "compact       24.212766\n",
       "midsize       23.024390\n",
       "minivan       19.090909\n",
       "pickup        14.939394\n",
       "subcompact    24.257143\n",
       "suv           15.814516\n",
       "Name: average_mileage, dtype: float64"
      ]
     },
     "execution_count": 272,
     "metadata": {},
     "output_type": "execute_result"
    }
   ],
   "source": [
    "mpg.groupby('class')['average_mileage'].mean()"
   ]
  },
  {
   "cell_type": "code",
   "execution_count": 273,
   "id": "2c1d356e",
   "metadata": {},
   "outputs": [],
   "source": [
    "compact_eff = mpg[mpg['class'] == 'compact']['average_mileage']"
   ]
  },
  {
   "cell_type": "code",
   "execution_count": 274,
   "id": "ab2eaa69",
   "metadata": {},
   "outputs": [
    {
     "data": {
      "text/plain": [
       "1      23.5\n",
       "2      25.0\n",
       "3      25.5\n",
       "4      25.5\n",
       "5      21.0\n",
       "6      22.0\n",
       "7      22.5\n",
       "8      22.0\n",
       "9      20.5\n",
       "10     24.0\n",
       "11     23.0\n",
       "12     20.0\n",
       "13     21.0\n",
       "14     21.0\n",
       "15     20.0\n",
       "142    25.0\n",
       "143    23.0\n",
       "170    22.5\n",
       "171    23.5\n",
       "172    22.0\n",
       "173    23.5\n",
       "187    24.0\n",
       "188    25.0\n",
       "189    26.0\n",
       "190    26.5\n",
       "191    22.0\n",
       "192    22.0\n",
       "193    22.5\n",
       "194    27.0\n",
       "195    28.5\n",
       "196    30.5\n",
       "197    32.5\n",
       "198    30.5\n",
       "208    25.0\n",
       "209    22.5\n",
       "210    25.0\n",
       "211    25.5\n",
       "212    20.5\n",
       "213    38.5\n",
       "214    25.0\n",
       "215    22.5\n",
       "216    25.5\n",
       "217    25.0\n",
       "218    25.0\n",
       "219    25.0\n",
       "220    19.5\n",
       "221    20.5\n",
       "Name: average_mileage, dtype: float64"
      ]
     },
     "execution_count": 274,
     "metadata": {},
     "output_type": "execute_result"
    }
   ],
   "source": [
    "compact_eff"
   ]
  },
  {
   "cell_type": "code",
   "execution_count": 276,
   "id": "17e341b7",
   "metadata": {},
   "outputs": [
    {
     "data": {
      "text/plain": [
       "20.14957264957265"
      ]
     },
     "execution_count": 276,
     "metadata": {},
     "output_type": "execute_result"
    }
   ],
   "source": [
    "mean_eff = mpg['average_mileage'].mean()\n",
    "mean_eff"
   ]
  },
  {
   "cell_type": "code",
   "execution_count": 277,
   "id": "3bac7626",
   "metadata": {},
   "outputs": [
    {
     "data": {
      "text/plain": [
       "(7.896888573132533, 4.198563794317163e-10)"
      ]
     },
     "execution_count": 277,
     "metadata": {},
     "output_type": "execute_result"
    }
   ],
   "source": [
    "t3, p3 = stats.ttest_1samp(compact_eff, mean_eff)\n",
    "t3, p3"
   ]
  },
  {
   "cell_type": "code",
   "execution_count": 279,
   "id": "3d48d9a8",
   "metadata": {},
   "outputs": [
    {
     "name": "stdout",
     "output_type": "stream",
     "text": [
      "Reject Null\n"
     ]
    }
   ],
   "source": [
    "alpha = .05\n",
    "\n",
    "if t3 > 0 and p3 <= alpha/2:\n",
    "    print('Reject Null')\n",
    "else:\n",
    "    print('We failed to reject null')"
   ]
  },
  {
   "cell_type": "markdown",
   "id": "e37af831",
   "metadata": {},
   "source": [
    "Takeaway: reject the null hypothesis; compact cars are more effienct than the average car"
   ]
  },
  {
   "cell_type": "markdown",
   "id": "3ff31f64",
   "metadata": {},
   "source": [
    "Do manual cars get better gas mileage than automatic cars?  \n",
    "\n",
    "Null: manual cars are not more effcient than automatics  \n",
    "Alternative: manual cars are more effcient than automatics"
   ]
  },
  {
   "cell_type": "code",
   "execution_count": 212,
   "id": "0614001f",
   "metadata": {},
   "outputs": [
    {
     "data": {
      "text/html": [
       "<div>\n",
       "<style scoped>\n",
       "    .dataframe tbody tr th:only-of-type {\n",
       "        vertical-align: middle;\n",
       "    }\n",
       "\n",
       "    .dataframe tbody tr th {\n",
       "        vertical-align: top;\n",
       "    }\n",
       "\n",
       "    .dataframe thead th {\n",
       "        text-align: right;\n",
       "    }\n",
       "</style>\n",
       "<table border=\"1\" class=\"dataframe\">\n",
       "  <thead>\n",
       "    <tr style=\"text-align: right;\">\n",
       "      <th></th>\n",
       "      <th>manufacturer</th>\n",
       "      <th>model</th>\n",
       "      <th>displ</th>\n",
       "      <th>year</th>\n",
       "      <th>cyl</th>\n",
       "      <th>trans</th>\n",
       "      <th>drv</th>\n",
       "      <th>cty</th>\n",
       "      <th>hwy</th>\n",
       "      <th>fl</th>\n",
       "      <th>class</th>\n",
       "      <th>average_mileage</th>\n",
       "      <th>is_automatic</th>\n",
       "    </tr>\n",
       "  </thead>\n",
       "  <tbody>\n",
       "    <tr>\n",
       "      <th>1</th>\n",
       "      <td>audi</td>\n",
       "      <td>a4</td>\n",
       "      <td>1.8</td>\n",
       "      <td>1999</td>\n",
       "      <td>4</td>\n",
       "      <td>auto(l5)</td>\n",
       "      <td>f</td>\n",
       "      <td>18</td>\n",
       "      <td>29</td>\n",
       "      <td>p</td>\n",
       "      <td>compact</td>\n",
       "      <td>23.5</td>\n",
       "      <td>True</td>\n",
       "    </tr>\n",
       "    <tr>\n",
       "      <th>2</th>\n",
       "      <td>audi</td>\n",
       "      <td>a4</td>\n",
       "      <td>1.8</td>\n",
       "      <td>1999</td>\n",
       "      <td>4</td>\n",
       "      <td>manual(m5)</td>\n",
       "      <td>f</td>\n",
       "      <td>21</td>\n",
       "      <td>29</td>\n",
       "      <td>p</td>\n",
       "      <td>compact</td>\n",
       "      <td>25.0</td>\n",
       "      <td>False</td>\n",
       "    </tr>\n",
       "    <tr>\n",
       "      <th>3</th>\n",
       "      <td>audi</td>\n",
       "      <td>a4</td>\n",
       "      <td>2.0</td>\n",
       "      <td>2008</td>\n",
       "      <td>4</td>\n",
       "      <td>manual(m6)</td>\n",
       "      <td>f</td>\n",
       "      <td>20</td>\n",
       "      <td>31</td>\n",
       "      <td>p</td>\n",
       "      <td>compact</td>\n",
       "      <td>25.5</td>\n",
       "      <td>False</td>\n",
       "    </tr>\n",
       "    <tr>\n",
       "      <th>4</th>\n",
       "      <td>audi</td>\n",
       "      <td>a4</td>\n",
       "      <td>2.0</td>\n",
       "      <td>2008</td>\n",
       "      <td>4</td>\n",
       "      <td>auto(av)</td>\n",
       "      <td>f</td>\n",
       "      <td>21</td>\n",
       "      <td>30</td>\n",
       "      <td>p</td>\n",
       "      <td>compact</td>\n",
       "      <td>25.5</td>\n",
       "      <td>True</td>\n",
       "    </tr>\n",
       "    <tr>\n",
       "      <th>5</th>\n",
       "      <td>audi</td>\n",
       "      <td>a4</td>\n",
       "      <td>2.8</td>\n",
       "      <td>1999</td>\n",
       "      <td>6</td>\n",
       "      <td>auto(l5)</td>\n",
       "      <td>f</td>\n",
       "      <td>16</td>\n",
       "      <td>26</td>\n",
       "      <td>p</td>\n",
       "      <td>compact</td>\n",
       "      <td>21.0</td>\n",
       "      <td>True</td>\n",
       "    </tr>\n",
       "    <tr>\n",
       "      <th>...</th>\n",
       "      <td>...</td>\n",
       "      <td>...</td>\n",
       "      <td>...</td>\n",
       "      <td>...</td>\n",
       "      <td>...</td>\n",
       "      <td>...</td>\n",
       "      <td>...</td>\n",
       "      <td>...</td>\n",
       "      <td>...</td>\n",
       "      <td>...</td>\n",
       "      <td>...</td>\n",
       "      <td>...</td>\n",
       "      <td>...</td>\n",
       "    </tr>\n",
       "    <tr>\n",
       "      <th>230</th>\n",
       "      <td>volkswagen</td>\n",
       "      <td>passat</td>\n",
       "      <td>2.0</td>\n",
       "      <td>2008</td>\n",
       "      <td>4</td>\n",
       "      <td>auto(s6)</td>\n",
       "      <td>f</td>\n",
       "      <td>19</td>\n",
       "      <td>28</td>\n",
       "      <td>p</td>\n",
       "      <td>midsize</td>\n",
       "      <td>23.5</td>\n",
       "      <td>True</td>\n",
       "    </tr>\n",
       "    <tr>\n",
       "      <th>231</th>\n",
       "      <td>volkswagen</td>\n",
       "      <td>passat</td>\n",
       "      <td>2.0</td>\n",
       "      <td>2008</td>\n",
       "      <td>4</td>\n",
       "      <td>manual(m6)</td>\n",
       "      <td>f</td>\n",
       "      <td>21</td>\n",
       "      <td>29</td>\n",
       "      <td>p</td>\n",
       "      <td>midsize</td>\n",
       "      <td>25.0</td>\n",
       "      <td>False</td>\n",
       "    </tr>\n",
       "    <tr>\n",
       "      <th>232</th>\n",
       "      <td>volkswagen</td>\n",
       "      <td>passat</td>\n",
       "      <td>2.8</td>\n",
       "      <td>1999</td>\n",
       "      <td>6</td>\n",
       "      <td>auto(l5)</td>\n",
       "      <td>f</td>\n",
       "      <td>16</td>\n",
       "      <td>26</td>\n",
       "      <td>p</td>\n",
       "      <td>midsize</td>\n",
       "      <td>21.0</td>\n",
       "      <td>True</td>\n",
       "    </tr>\n",
       "    <tr>\n",
       "      <th>233</th>\n",
       "      <td>volkswagen</td>\n",
       "      <td>passat</td>\n",
       "      <td>2.8</td>\n",
       "      <td>1999</td>\n",
       "      <td>6</td>\n",
       "      <td>manual(m5)</td>\n",
       "      <td>f</td>\n",
       "      <td>18</td>\n",
       "      <td>26</td>\n",
       "      <td>p</td>\n",
       "      <td>midsize</td>\n",
       "      <td>22.0</td>\n",
       "      <td>False</td>\n",
       "    </tr>\n",
       "    <tr>\n",
       "      <th>234</th>\n",
       "      <td>volkswagen</td>\n",
       "      <td>passat</td>\n",
       "      <td>3.6</td>\n",
       "      <td>2008</td>\n",
       "      <td>6</td>\n",
       "      <td>auto(s6)</td>\n",
       "      <td>f</td>\n",
       "      <td>17</td>\n",
       "      <td>26</td>\n",
       "      <td>p</td>\n",
       "      <td>midsize</td>\n",
       "      <td>21.5</td>\n",
       "      <td>True</td>\n",
       "    </tr>\n",
       "  </tbody>\n",
       "</table>\n",
       "<p>234 rows × 13 columns</p>\n",
       "</div>"
      ],
      "text/plain": [
       "    manufacturer   model  displ  year  cyl       trans drv  cty  hwy fl  \\\n",
       "1           audi      a4    1.8  1999    4    auto(l5)   f   18   29  p   \n",
       "2           audi      a4    1.8  1999    4  manual(m5)   f   21   29  p   \n",
       "3           audi      a4    2.0  2008    4  manual(m6)   f   20   31  p   \n",
       "4           audi      a4    2.0  2008    4    auto(av)   f   21   30  p   \n",
       "5           audi      a4    2.8  1999    6    auto(l5)   f   16   26  p   \n",
       "..           ...     ...    ...   ...  ...         ...  ..  ...  ... ..   \n",
       "230   volkswagen  passat    2.0  2008    4    auto(s6)   f   19   28  p   \n",
       "231   volkswagen  passat    2.0  2008    4  manual(m6)   f   21   29  p   \n",
       "232   volkswagen  passat    2.8  1999    6    auto(l5)   f   16   26  p   \n",
       "233   volkswagen  passat    2.8  1999    6  manual(m5)   f   18   26  p   \n",
       "234   volkswagen  passat    3.6  2008    6    auto(s6)   f   17   26  p   \n",
       "\n",
       "       class  average_mileage  is_automatic  \n",
       "1    compact             23.5          True  \n",
       "2    compact             25.0         False  \n",
       "3    compact             25.5         False  \n",
       "4    compact             25.5          True  \n",
       "5    compact             21.0          True  \n",
       "..       ...              ...           ...  \n",
       "230  midsize             23.5          True  \n",
       "231  midsize             25.0         False  \n",
       "232  midsize             21.0          True  \n",
       "233  midsize             22.0         False  \n",
       "234  midsize             21.5          True  \n",
       "\n",
       "[234 rows x 13 columns]"
      ]
     },
     "execution_count": 212,
     "metadata": {},
     "output_type": "execute_result"
    }
   ],
   "source": [
    "mpg['is_automatic'] = mpg.trans.str.startswith('a')\n",
    "\n",
    "mpg"
   ]
  },
  {
   "cell_type": "code",
   "execution_count": 280,
   "id": "dce68e10",
   "metadata": {},
   "outputs": [],
   "source": [
    "manual_eff = mpg[mpg['trans'].str.startswith('m')]['average_mileage']\n",
    "auto_eff = mpg[mpg['trans'].str.startswith('a')]['average_mileage']"
   ]
  },
  {
   "cell_type": "code",
   "execution_count": 281,
   "id": "01d18eb5",
   "metadata": {},
   "outputs": [
    {
     "data": {
      "text/plain": [
       "(26.635167464114826, 21.942777233382337)"
      ]
     },
     "execution_count": 281,
     "metadata": {},
     "output_type": "execute_result"
    }
   ],
   "source": [
    "manual_eff.var(), auto_eff.var()"
   ]
  },
  {
   "cell_type": "code",
   "execution_count": 282,
   "id": "38cc13d2",
   "metadata": {},
   "outputs": [
    {
     "data": {
      "text/plain": [
       "(4.443514012903072, 1.7952248999917893e-05)"
      ]
     },
     "execution_count": 282,
     "metadata": {},
     "output_type": "execute_result"
    }
   ],
   "source": [
    "t4, p4 = stats.ttest_ind(manual_eff, auto_eff, equal_var=False)\n",
    "t4, p4"
   ]
  },
  {
   "cell_type": "code",
   "execution_count": 283,
   "id": "aab08c9c",
   "metadata": {},
   "outputs": [
    {
     "name": "stdout",
     "output_type": "stream",
     "text": [
      "Reject Null\n"
     ]
    }
   ],
   "source": [
    "alpha = .05\n",
    "\n",
    "if t4 > 0 and p4 < alpha:\n",
    "    print('Reject Null')\n",
    "else:\n",
    "    print('We failed to reject null')"
   ]
  },
  {
   "cell_type": "markdown",
   "id": "a719efcc",
   "metadata": {},
   "source": [
    "Takeaway: manual cars are significantly more efficient than automatic cars"
   ]
  },
  {
   "cell_type": "code",
   "execution_count": 226,
   "id": "9bef02f8",
   "metadata": {},
   "outputs": [
    {
     "data": {
      "text/plain": [
       "is_automatic\n",
       "False    22.227273\n",
       "True     19.130573\n",
       "Name: average_mileage, dtype: float64"
      ]
     },
     "execution_count": 226,
     "metadata": {},
     "output_type": "execute_result"
    }
   ],
   "source": [
    "mpg.groupby('is_automatic')['average_mileage'].mean()"
   ]
  },
  {
   "cell_type": "code",
   "execution_count": 227,
   "id": "691c5a07",
   "metadata": {},
   "outputs": [],
   "source": [
    "gas_mileage = mpg.groupby('is_automatic')['average_mileage']"
   ]
  },
  {
   "cell_type": "code",
   "execution_count": 228,
   "id": "06cba92b",
   "metadata": {},
   "outputs": [
    {
     "data": {
      "text/plain": [
       "is_automatic\n",
       "False    AxesSubplot(0.125,0.11;0.775x0.77)\n",
       "True     AxesSubplot(0.125,0.11;0.775x0.77)\n",
       "Name: average_mileage, dtype: object"
      ]
     },
     "execution_count": 228,
     "metadata": {},
     "output_type": "execute_result"
    },
    {
     "data": {
      "image/png": "[encoded data removed]",
      "text/plain": [
       "<Figure size 640x480 with 1 Axes>"
      ]
     },
     "metadata": {},
     "output_type": "display_data"
    }
   ],
   "source": [
    "gas_mileage.hist(alpha =.5)"
   ]
  },
  {
   "cell_type": "markdown",
   "id": "795b116d",
   "metadata": {},
   "source": [
    "Ace Realty wants to determine whether the average time it takes to sell homes is different for its two offices. A sample of 40 sales from office #1 revealed a mean of 90 days and a standard deviation of 15 days. A sample of 50 sales from office #2 revealed a mean of 100 days and a standard deviation of 20 days. Use a .05 level of significance.\n",
    "\n"
   ]
  },
  {
   "cell_type": "code",
   "execution_count": 253,
   "id": "5882bceb",
   "metadata": {},
   "outputs": [],
   "source": [
    "office_one = stats.norm(90, 15)\n",
    "office_two = stats.norm(100, 20)"
   ]
  },
  {
   "cell_type": "code",
   "execution_count": 254,
   "id": "96830647",
   "metadata": {},
   "outputs": [
    {
     "data": {
      "text/plain": [
       "<scipy.stats._distn_infrastructure.rv_continuous_frozen at 0x7ff7b806e3a0>"
      ]
     },
     "execution_count": 254,
     "metadata": {},
     "output_type": "execute_result"
    }
   ],
   "source": [
    "office_one"
   ]
  },
  {
   "cell_type": "code",
   "execution_count": 255,
   "id": "d566786d",
   "metadata": {},
   "outputs": [
    {
     "data": {
      "text/plain": [
       "array([ 73.71554095, 104.9601817 ,  94.24467747,  67.40557929,\n",
       "        81.32099622, 114.77154806,  53.59981135,  83.56631057,\n",
       "       108.98904388,  76.99889397,  79.81670773,  88.57936547,\n",
       "       112.37084439,  80.41647005,  83.34027061,  83.48473087,\n",
       "       123.08895124, 122.80179133, 105.06080847,  95.79279599,\n",
       "       101.06052864, 112.36098042,  75.96249197, 107.63743567,\n",
       "        71.19178998,  80.43372746, 103.60657794,  68.5697895 ,\n",
       "        87.8989692 ,  77.07367656,  86.16570944,  48.02116342,\n",
       "        63.42700343,  79.50184148, 103.91193648,  87.39546476,\n",
       "        90.04268874, 100.32334067,  76.80695485,  94.25440986])"
      ]
     },
     "execution_count": 255,
     "metadata": {},
     "output_type": "execute_result"
    }
   ],
   "source": [
    "# get some random values (40 sales) for office one sample\n",
    "\n",
    "office_one.rvs(40)"
   ]
  },
  {
   "cell_type": "code",
   "execution_count": 256,
   "id": "1c60f6d8",
   "metadata": {},
   "outputs": [],
   "source": [
    "dist_one = office_one.rvs(40)\n",
    "dist_two = office_two.rvs(50)"
   ]
  },
  {
   "cell_type": "code",
   "execution_count": 257,
   "id": "1375571e",
   "metadata": {},
   "outputs": [
    {
     "data": {
      "text/plain": [
       "(282.2599600468413, 465.82840550772147)"
      ]
     },
     "execution_count": 257,
     "metadata": {},
     "output_type": "execute_result"
    }
   ],
   "source": [
    "dist_one.var(), dist_two.var()"
   ]
  },
  {
   "cell_type": "code",
   "execution_count": 258,
   "id": "c0a44b27",
   "metadata": {},
   "outputs": [
    {
     "data": {
      "text/plain": [
       "LeveneResult(statistic=2.0403684615910986, pvalue=0.15671226486123732)"
      ]
     },
     "execution_count": 258,
     "metadata": {},
     "output_type": "execute_result"
    }
   ],
   "source": [
    "stats.levene(dist_one, dist_two)"
   ]
  },
  {
   "cell_type": "code",
   "execution_count": 259,
   "id": "77e8b5d4",
   "metadata": {},
   "outputs": [
    {
     "data": {
      "text/plain": [
       "(-2.339391650498879, 0.0215804214141492)"
      ]
     },
     "execution_count": 259,
     "metadata": {},
     "output_type": "execute_result"
    }
   ],
   "source": [
    "t, p = stats.ttest_ind(dist_one, dist_two, equal_var=False)\n",
    "t,p"
   ]
  },
  {
   "cell_type": "markdown",
   "id": "d480b3dc",
   "metadata": {},
   "source": [
    "Null: there's no difference between the two distributions  \n",
    "Alternative: there's a significant difference between the two distributions"
   ]
  },
  {
   "cell_type": "code",
   "execution_count": 260,
   "id": "c7599c18",
   "metadata": {},
   "outputs": [
    {
     "name": "stdout",
     "output_type": "stream",
     "text": [
      "Reject null\n"
     ]
    }
   ],
   "source": [
    "alpha = 0.05\n",
    "\n",
    "if p <= alpha:\n",
    "    print('Reject null')\n",
    "else:\n",
    "    print('Fail to reject null')"
   ]
  },
  {
   "cell_type": "markdown",
   "id": "5268e37d",
   "metadata": {},
   "source": [
    "Takeaway: we rejected the null hypothesis, and there is a significant difference between the two offices"
   ]
  },
  {
   "cell_type": "code",
   "execution_count": 3,
   "id": "c0567637",
   "metadata": {},
   "outputs": [
    {
     "data": {
      "text/html": [
       "<div>\n",
       "<style scoped>\n",
       "    .dataframe tbody tr th:only-of-type {\n",
       "        vertical-align: middle;\n",
       "    }\n",
       "\n",
       "    .dataframe tbody tr th {\n",
       "        vertical-align: top;\n",
       "    }\n",
       "\n",
       "    .dataframe thead th {\n",
       "        text-align: right;\n",
       "    }\n",
       "</style>\n",
       "<table border=\"1\" class=\"dataframe\">\n",
       "  <thead>\n",
       "    <tr style=\"text-align: right;\">\n",
       "      <th></th>\n",
       "      <th>exam_score</th>\n",
       "      <th>hours_studied</th>\n",
       "      <th>study_strategy</th>\n",
       "      <th>handedness</th>\n",
       "      <th>coffee_consumed</th>\n",
       "      <th>hours_slept</th>\n",
       "    </tr>\n",
       "  </thead>\n",
       "  <tbody>\n",
       "    <tr>\n",
       "      <th>0</th>\n",
       "      <td>100.591011</td>\n",
       "      <td>9.126291</td>\n",
       "      <td>flashcards</td>\n",
       "      <td>left</td>\n",
       "      <td>0</td>\n",
       "      <td>11</td>\n",
       "    </tr>\n",
       "    <tr>\n",
       "      <th>1</th>\n",
       "      <td>95.637086</td>\n",
       "      <td>9.677438</td>\n",
       "      <td>flashcards</td>\n",
       "      <td>left</td>\n",
       "      <td>1</td>\n",
       "      <td>10</td>\n",
       "    </tr>\n",
       "    <tr>\n",
       "      <th>2</th>\n",
       "      <td>53.200296</td>\n",
       "      <td>4.550207</td>\n",
       "      <td>NaN</td>\n",
       "      <td>right</td>\n",
       "      <td>5</td>\n",
       "      <td>6</td>\n",
       "    </tr>\n",
       "  </tbody>\n",
       "</table>\n",
       "</div>"
      ],
      "text/plain": [
       "   exam_score  hours_studied study_strategy handedness  coffee_consumed  \\\n",
       "0  100.591011       9.126291     flashcards       left                0   \n",
       "1   95.637086       9.677438     flashcards       left                1   \n",
       "2   53.200296       4.550207            NaN      right                5   \n",
       "\n",
       "   hours_slept  \n",
       "0           11  \n",
       "1           10  \n",
       "2            6  "
      ]
     },
     "execution_count": 3,
     "metadata": {},
     "output_type": "execute_result"
    }
   ],
   "source": [
    "import pandas as pd\n",
    "import numpy as np\n",
    "import matplotlib.pyplot as plt\n",
    "import seaborn as sns\n",
    "\n",
    "from math import sqrt\n",
    "\n",
    "from scipy import stats\n",
    "from pydataset import data\n",
    "\n",
    "url = \"https://gist.githubusercontent.com/ryanorsinger/2c13a71421037af127e9fa7fa1463cad/raw/3eb443414078b51af33fdb2d211159e5f3e220ab/exam_scores.csv\"\n",
    "df = pd.read_csv(url)\n",
    "\n",
    "df.head(3)\n"
   ]
  },
  {
   "cell_type": "code",
   "execution_count": 6,
   "id": "52a00c64",
   "metadata": {},
   "outputs": [
    {
     "data": {
      "image/png": "[encoded data removed]",
      "text/plain": [
       "<Figure size 1000x1000 with 14 Axes>"
      ]
     },
     "metadata": {},
     "output_type": "display_data"
    }
   ],
   "source": [
    "sns.pairplot(df, corner=True)\n",
    "plt.suptitle(\"sns.pairplot visualizes continuous variable relationships\")\n",
    "plt.show()\n"
   ]
  },
  {
   "cell_type": "code",
   "execution_count": 8,
   "id": "dc20427d",
   "metadata": {},
   "outputs": [],
   "source": [
    "n = df.shape[0]     # number of observations\n",
    "degf = n - 2        # degrees of freedom: the # of values in the final calculation of a statistic that are free to vary.\n",
    "conf_interval = .95 # desired confidence interval\n",
    "α = 1 - conf_interval\n"
   ]
  },
  {
   "cell_type": "code",
   "execution_count": null,
   "id": "669bd1fd",
   "metadata": {},
   "outputs": [],
   "source": [
    "## correlation\n",
    "\n",
    "Goal: determine if two samples have a linear relationship\n",
    "    \n",
    "### pearson's r\n",
    "\n",
    "- 2 continious variables\n",
    "\n",
    "Null: no linear relationship exists\n",
    "Alternative: a linear relationship exists"
   ]
  },
  {
   "cell_type": "code",
   "execution_count": null,
   "id": "3e8b2457",
   "metadata": {},
   "outputs": [],
   "source": [
    "## setting up for the Test for Correlation\n",
    "\n",
    "# number of hours studied\n",
    "# exam score\n",
    "\n",
    "Null: no linear relationship between number of hours studied and the exam score\n",
    "Alternative: there is a relationship between number of hours studied and the exam score"
   ]
  },
  {
   "cell_type": "code",
   "execution_count": 9,
   "id": "63911910",
   "metadata": {},
   "outputs": [
    {
     "data": {
      "text/plain": [
       "0.8351498542413306"
      ]
     },
     "execution_count": 9,
     "metadata": {},
     "output_type": "execute_result"
    }
   ],
   "source": [
    "# retrieve x and y values \n",
    "\n",
    "x = df.hours_studied\n",
    "y = df.exam_score\n",
    "\n",
    "# function that will find the standard deviation of a set of values\n",
    "# first it calculates the variance\n",
    "\n",
    "def stdev(x):\n",
    "    variance = ((x - x.mean()) ** 2).sum() / n\n",
    "    return sqrt(variance)\n",
    "\n",
    "# apply the results to the formula for pearson's r\n",
    "\n",
    "r_xy = (((x - x.mean()) * (y - y.mean())).sum() / n) / (stdev(x) * stdev(y))\n",
    "r_xy\n",
    "\n",
    "# the pearson's r value is r_xy"
   ]
  },
  {
   "cell_type": "code",
   "execution_count": 10,
   "id": "60f94d0d",
   "metadata": {},
   "outputs": [
    {
     "data": {
      "text/plain": [
       "9.359998377263368"
      ]
     },
     "execution_count": 10,
     "metadata": {},
     "output_type": "execute_result"
    }
   ],
   "source": [
    "# find a p-value\n",
    "\n",
    "t = (r_xy * sqrt(n - 2)) / sqrt(1 - r_xy**2)\n",
    "t\n",
    "\n",
    "# t-statistic for exam scores and hours studied\n",
    "# calculated with (40-2) = 38 degrees of freedom"
   ]
  },
  {
   "cell_type": "code",
   "execution_count": 11,
   "id": "19040723",
   "metadata": {},
   "outputs": [
    {
     "data": {
      "text/plain": [
       "2.0762953315463266e-11"
      ]
     },
     "execution_count": 11,
     "metadata": {},
     "output_type": "execute_result"
    }
   ],
   "source": [
    "# find the p value based on the t-statistic\n",
    "\n",
    "# doubled p-value\n",
    "p = stats.t.sf(t, df=degf) * 2 # *2 for a two-tailed test\n",
    "p\n"
   ]
  },
  {
   "cell_type": "code",
   "execution_count": 12,
   "id": "8c08cff4",
   "metadata": {},
   "outputs": [
    {
     "data": {
      "text/plain": [
       "True"
      ]
     },
     "execution_count": 12,
     "metadata": {},
     "output_type": "execute_result"
    }
   ],
   "source": [
    "# compare alpha\n",
    "\n",
    "p < alpha"
   ]
  },
  {
   "cell_type": "code",
   "execution_count": null,
   "id": "7a936633",
   "metadata": {},
   "outputs": [],
   "source": [
    "## conclusion\n",
    "\n",
    "# reject the null hypothesis\n",
    "# reject that there is no linear relationship\n",
    "# reject that there is no correlation\n"
   ]
  },
  {
   "cell_type": "code",
   "execution_count": null,
   "id": "60b7fa7b",
   "metadata": {},
   "outputs": [],
   "source": [
    "df.plot.scatter(y='exam_score', x='hours_studied')"
   ]
  },
  {
   "cell_type": "code",
   "execution_count": 13,
   "id": "3148d62b",
   "metadata": {},
   "outputs": [
    {
     "data": {
      "text/plain": [
       "(0.8351498542413305, 2.0762953315463534e-11)"
      ]
     },
     "execution_count": 13,
     "metadata": {},
     "output_type": "execute_result"
    }
   ],
   "source": [
    "# the easy way\n",
    "\n",
    "corr, p = stats.pearsonr(x, y)\n",
    "corr, p\n"
   ]
  },
  {
   "cell_type": "code",
   "execution_count": 14,
   "id": "561d708e",
   "metadata": {},
   "outputs": [
    {
     "data": {
      "text/plain": [
       "<matplotlib.collections.PathCollection at 0x7fcdac6ced60>"
      ]
     },
     "execution_count": 14,
     "metadata": {},
     "output_type": "execute_result"
    }
   ],
   "source": [
    "## non linear relationship\n",
    "\n",
    "x = np.linspace(-3, 3)\n",
    "y = x ** 2\n",
    "plt.scatter(x, y, s=10, c='firebrick', alpha=.8)\n"
   ]
  },
  {
   "cell_type": "code",
   "execution_count": 15,
   "id": "afa06325",
   "metadata": {},
   "outputs": [
    {
     "name": "stdout",
     "output_type": "stream",
     "text": [
      "r = -0.00000\n",
      "p = 1.0\n"
     ]
    }
   ],
   "source": [
    "r, p = stats.pearsonr(x, y)\n",
    "print(f'r = {r:.5f}')\n",
    "print(f'p = {p:.1f}')"
   ]
  },
  {
   "cell_type": "code",
   "execution_count": 16,
   "id": "3ed39db8",
   "metadata": {},
   "outputs": [
    {
     "data": {
      "text/plain": [
       "Text(8, 80, 'r = -0.994')"
      ]
     },
     "execution_count": 16,
     "metadata": {},
     "output_type": "execute_result"
    }
   ],
   "source": [
    "# coffee consumed and exam score\n",
    "\n",
    "\n",
    "# the pearson's r and p-value\n",
    "r, p = stats.pearsonr(df.coffee_consumed, df.exam_score)\n",
    "# scatter plot\n",
    "df.plot.scatter('coffee_consumed', 'exam_score')\n",
    "# format is 'y variable vs x variable'\n",
    "plt.title('Exam Score vs # Cups of Coffee')\n",
    "# display the pearson's r coefficient on the graph\n",
    "plt.text(8, 80, f'r = {r:.3f}')\n"
   ]
  },
  {
   "cell_type": "code",
   "execution_count": 17,
   "id": "ab7b2577",
   "metadata": {},
   "outputs": [
    {
     "name": "stdout",
     "output_type": "stream",
     "text": [
      "Correlation between hours slept and coffee consumed\n",
      "  r = -1.000\n",
      "Correlation between hours slept and exam score\n",
      "  r = 0.994\n"
     ]
    }
   ],
   "source": [
    "# pearson's r and p-value for the relationhip between hours slept and coffee consumed\n",
    "r_sleep_coffee, _ = stats.pearsonr(df.hours_slept, df.coffee_consumed)\n",
    "# pearson's r and p-value for the relationhip between hours slept and exam score\n",
    "r_sleep_score, _ = stats.pearsonr(df.hours_slept, df.exam_score)\n",
    "\n",
    "print('Correlation between hours slept and coffee consumed')\n",
    "print(f'  r = {r_sleep_coffee:.3f}')\n",
    "print('Correlation between hours slept and exam score')\n",
    "print(f'  r = {r_sleep_score:.3f}')\n",
    "\n",
    "\n",
    "# hours slept and the exam score\n",
    "\n",
    "# hours slpet and coffee consumed"
   ]
  },
  {
   "cell_type": "markdown",
   "id": "10df2a68",
   "metadata": {},
   "source": [
    "### Answer with the type of stats test you would use (assume normal distribution):  \n",
    "#### Is there a relationship between the length of your arm and the length of your foot?  \n",
    "Peqarson's R / Spearmans"
   ]
  },
  {
   "cell_type": "markdown",
   "id": "485f146d",
   "metadata": {},
   "source": [
    "#### Do guys and gals quit their jobs at the same rate?\n",
    "independent t test (2-tailed)"
   ]
  },
  {
   "cell_type": "markdown",
   "id": "8bb4a4bb",
   "metadata": {},
   "source": [
    "#### Does the length of time of the lecture correlate with a students (numeric) grade?\n",
    "Peqarson's R / Spearmans"
   ]
  },
  {
   "cell_type": "markdown",
   "id": "87a9e7a0",
   "metadata": {},
   "source": [
    "### Does tenure correlate with monthly charges?"
   ]
  },
  {
   "cell_type": "code",
   "execution_count": 18,
   "id": "d1ac7209",
   "metadata": {},
   "outputs": [],
   "source": [
    "import env\n",
    "pd.options.display.max_columns = None\n",
    "\n",
    "db_url = f'mysql+pymysql://{env.username}:{env.password}@{env.host}/telco_churn'\n",
    "telco_df = pd.read_sql('SELECT * FROM customers', db_url)  "
   ]
  },
  {
   "cell_type": "code",
   "execution_count": 19,
   "id": "897b2355",
   "metadata": {},
   "outputs": [
    {
     "data": {
      "text/html": [
       "<div>\n",
       "<style scoped>\n",
       "    .dataframe tbody tr th:only-of-type {\n",
       "        vertical-align: middle;\n",
       "    }\n",
       "\n",
       "    .dataframe tbody tr th {\n",
       "        vertical-align: top;\n",
       "    }\n",
       "\n",
       "    .dataframe thead th {\n",
       "        text-align: right;\n",
       "    }\n",
       "</style>\n",
       "<table border=\"1\" class=\"dataframe\">\n",
       "  <thead>\n",
       "    <tr style=\"text-align: right;\">\n",
       "      <th></th>\n",
       "      <th>customer_id</th>\n",
       "      <th>gender</th>\n",
       "      <th>senior_citizen</th>\n",
       "      <th>partner</th>\n",
       "      <th>dependents</th>\n",
       "      <th>tenure</th>\n",
       "      <th>phone_service</th>\n",
       "      <th>multiple_lines</th>\n",
       "      <th>internet_service_type_id</th>\n",
       "      <th>online_security</th>\n",
       "      <th>online_backup</th>\n",
       "      <th>device_protection</th>\n",
       "      <th>tech_support</th>\n",
       "      <th>streaming_tv</th>\n",
       "      <th>streaming_movies</th>\n",
       "      <th>contract_type_id</th>\n",
       "      <th>paperless_billing</th>\n",
       "      <th>payment_type_id</th>\n",
       "      <th>monthly_charges</th>\n",
       "      <th>total_charges</th>\n",
       "      <th>churn</th>\n",
       "    </tr>\n",
       "  </thead>\n",
       "  <tbody>\n",
       "    <tr>\n",
       "      <th>0</th>\n",
       "      <td>0002-ORFBO</td>\n",
       "      <td>Female</td>\n",
       "      <td>0</td>\n",
       "      <td>Yes</td>\n",
       "      <td>Yes</td>\n",
       "      <td>9</td>\n",
       "      <td>Yes</td>\n",
       "      <td>No</td>\n",
       "      <td>1</td>\n",
       "      <td>No</td>\n",
       "      <td>Yes</td>\n",
       "      <td>No</td>\n",
       "      <td>Yes</td>\n",
       "      <td>Yes</td>\n",
       "      <td>No</td>\n",
       "      <td>2</td>\n",
       "      <td>Yes</td>\n",
       "      <td>2</td>\n",
       "      <td>65.6</td>\n",
       "      <td>593.3</td>\n",
       "      <td>No</td>\n",
       "    </tr>\n",
       "    <tr>\n",
       "      <th>1</th>\n",
       "      <td>0003-MKNFE</td>\n",
       "      <td>Male</td>\n",
       "      <td>0</td>\n",
       "      <td>No</td>\n",
       "      <td>No</td>\n",
       "      <td>9</td>\n",
       "      <td>Yes</td>\n",
       "      <td>Yes</td>\n",
       "      <td>1</td>\n",
       "      <td>No</td>\n",
       "      <td>No</td>\n",
       "      <td>No</td>\n",
       "      <td>No</td>\n",
       "      <td>No</td>\n",
       "      <td>Yes</td>\n",
       "      <td>1</td>\n",
       "      <td>No</td>\n",
       "      <td>2</td>\n",
       "      <td>59.9</td>\n",
       "      <td>542.4</td>\n",
       "      <td>No</td>\n",
       "    </tr>\n",
       "    <tr>\n",
       "      <th>2</th>\n",
       "      <td>0004-TLHLJ</td>\n",
       "      <td>Male</td>\n",
       "      <td>0</td>\n",
       "      <td>No</td>\n",
       "      <td>No</td>\n",
       "      <td>4</td>\n",
       "      <td>Yes</td>\n",
       "      <td>No</td>\n",
       "      <td>2</td>\n",
       "      <td>No</td>\n",
       "      <td>No</td>\n",
       "      <td>Yes</td>\n",
       "      <td>No</td>\n",
       "      <td>No</td>\n",
       "      <td>No</td>\n",
       "      <td>1</td>\n",
       "      <td>Yes</td>\n",
       "      <td>1</td>\n",
       "      <td>73.9</td>\n",
       "      <td>280.85</td>\n",
       "      <td>Yes</td>\n",
       "    </tr>\n",
       "    <tr>\n",
       "      <th>3</th>\n",
       "      <td>0011-IGKFF</td>\n",
       "      <td>Male</td>\n",
       "      <td>1</td>\n",
       "      <td>Yes</td>\n",
       "      <td>No</td>\n",
       "      <td>13</td>\n",
       "      <td>Yes</td>\n",
       "      <td>No</td>\n",
       "      <td>2</td>\n",
       "      <td>No</td>\n",
       "      <td>Yes</td>\n",
       "      <td>Yes</td>\n",
       "      <td>No</td>\n",
       "      <td>Yes</td>\n",
       "      <td>Yes</td>\n",
       "      <td>1</td>\n",
       "      <td>Yes</td>\n",
       "      <td>1</td>\n",
       "      <td>98.0</td>\n",
       "      <td>1237.85</td>\n",
       "      <td>Yes</td>\n",
       "    </tr>\n",
       "    <tr>\n",
       "      <th>4</th>\n",
       "      <td>0013-EXCHZ</td>\n",
       "      <td>Female</td>\n",
       "      <td>1</td>\n",
       "      <td>Yes</td>\n",
       "      <td>No</td>\n",
       "      <td>3</td>\n",
       "      <td>Yes</td>\n",
       "      <td>No</td>\n",
       "      <td>2</td>\n",
       "      <td>No</td>\n",
       "      <td>No</td>\n",
       "      <td>No</td>\n",
       "      <td>Yes</td>\n",
       "      <td>Yes</td>\n",
       "      <td>No</td>\n",
       "      <td>1</td>\n",
       "      <td>Yes</td>\n",
       "      <td>2</td>\n",
       "      <td>83.9</td>\n",
       "      <td>267.4</td>\n",
       "      <td>Yes</td>\n",
       "    </tr>\n",
       "  </tbody>\n",
       "</table>\n",
       "</div>"
      ],
      "text/plain": [
       "  customer_id  gender  senior_citizen partner dependents  tenure  \\\n",
       "0  0002-ORFBO  Female               0     Yes        Yes       9   \n",
       "1  0003-MKNFE    Male               0      No         No       9   \n",
       "2  0004-TLHLJ    Male               0      No         No       4   \n",
       "3  0011-IGKFF    Male               1     Yes         No      13   \n",
       "4  0013-EXCHZ  Female               1     Yes         No       3   \n",
       "\n",
       "  phone_service multiple_lines  internet_service_type_id online_security  \\\n",
       "0           Yes             No                         1              No   \n",
       "1           Yes            Yes                         1              No   \n",
       "2           Yes             No                         2              No   \n",
       "3           Yes             No                         2              No   \n",
       "4           Yes             No                         2              No   \n",
       "\n",
       "  online_backup device_protection tech_support streaming_tv streaming_movies  \\\n",
       "0           Yes                No          Yes          Yes               No   \n",
       "1            No                No           No           No              Yes   \n",
       "2            No               Yes           No           No               No   \n",
       "3           Yes               Yes           No          Yes              Yes   \n",
       "4            No                No          Yes          Yes               No   \n",
       "\n",
       "   contract_type_id paperless_billing  payment_type_id  monthly_charges  \\\n",
       "0                 2               Yes                2             65.6   \n",
       "1                 1                No                2             59.9   \n",
       "2                 1               Yes                1             73.9   \n",
       "3                 1               Yes                1             98.0   \n",
       "4                 1               Yes                2             83.9   \n",
       "\n",
       "  total_charges churn  \n",
       "0         593.3    No  \n",
       "1         542.4    No  \n",
       "2        280.85   Yes  \n",
       "3       1237.85   Yes  \n",
       "4         267.4   Yes  "
      ]
     },
     "execution_count": 19,
     "metadata": {},
     "output_type": "execute_result"
    }
   ],
   "source": [
    "telco_df.head()"
   ]
  },
  {
   "cell_type": "code",
   "execution_count": 33,
   "id": "e2e8e362",
   "metadata": {},
   "outputs": [],
   "source": [
    "x = telco_df.tenure\n",
    "y = telco_df.monthly_charges\n",
    "\n"
   ]
  },
  {
   "cell_type": "code",
   "execution_count": 50,
   "id": "ff5cebf7",
   "metadata": {},
   "outputs": [
    {
     "data": {
      "text/plain": [
       "(0.2753387429197595, 1.535767470847339e-122)"
      ]
     },
     "execution_count": 50,
     "metadata": {},
     "output_type": "execute_result"
    }
   ],
   "source": [
    "r, p = stats.spearmanr(x, y)\n",
    "r, p"
   ]
  },
  {
   "cell_type": "code",
   "execution_count": 55,
   "id": "5213b81d",
   "metadata": {},
   "outputs": [],
   "source": [
    "alpha = 0.05\n",
    "\n",
    "def eval_result(alpha,p):\n",
    "    if p < alpha:\n",
    "        return print(f'reject the null hypothesis, there is a linear correlation')\n",
    "    else:\n",
    "        return print(f' we f ail to reject the null hypothesis, that there is a linear correlation')\n"
   ]
  },
  {
   "cell_type": "code",
   "execution_count": 56,
   "id": "53580ed7",
   "metadata": {},
   "outputs": [
    {
     "name": "stdout",
     "output_type": "stream",
     "text": [
      "reject the null hypothesis, there is a linear correlation\n"
     ]
    }
   ],
   "source": [
    "eval_result(alpha,p)"
   ]
  },
  {
   "cell_type": "markdown",
   "id": "75c9c1f9",
   "metadata": {},
   "source": [
    "**Takeaways**\n",
    "\n",
    "There is a correlation between monthly charges and tenure.  \n",
    "\n",
    "_____________________________________________________________\n",
    "\n",
    "\n",
    "B. Does Tenure correlate with total charges?  \n",
    "\n",
    "1. state our hypothesis, set our alpha value    \n",
    "2. select the data, check for nulls, fun .info     \n",
    "3. plot the data  \n",
    "4. test for assumptions (normal distrubution for correlation)  \n",
    "5. run test  \n",
    "6. draw conclusions  \n",
    "\n",
    "Hypothesis:\n",
    "\n",
    "null: there is no linear correlation between tenure and total charges  \n",
    "alternative: there is a linear correlation between tenure and total charges "
   ]
  },
  {
   "cell_type": "markdown",
   "id": "1b9377a8",
   "metadata": {},
   "source": [
    "### Total charges?\n"
   ]
  },
  {
   "cell_type": "code",
   "execution_count": 40,
   "id": "218060c5",
   "metadata": {},
   "outputs": [
    {
     "name": "stdout",
     "output_type": "stream",
     "text": [
      "<class 'pandas.core.frame.DataFrame'>\n",
      "Int64Index: 7032 entries, 0 to 7042\n",
      "Data columns (total 2 columns):\n",
      " #   Column         Non-Null Count  Dtype  \n",
      "---  ------         --------------  -----  \n",
      " 0   tenure         7032 non-null   int64  \n",
      " 1   total_charges  7032 non-null   float64\n",
      "dtypes: float64(1), int64(1)\n",
      "memory usage: 164.8 KB\n"
     ]
    }
   ],
   "source": [
    "alpha = 0.05\n",
    "\n",
    "# select the data\n",
    "\n",
    "telco_df[['tenure', 'total_charges']].info()"
   ]
  },
  {
   "cell_type": "code",
   "execution_count": 23,
   "id": "e982d5bc",
   "metadata": {},
   "outputs": [],
   "source": [
    "telco_df['total_charges'] = pd.to_numeric(telco_df.total_charges.str.replace(\" \", \"\"))\n",
    "\n"
   ]
  },
  {
   "cell_type": "code",
   "execution_count": 24,
   "id": "c20b82da",
   "metadata": {},
   "outputs": [
    {
     "data": {
      "text/html": [
       "<div>\n",
       "<style scoped>\n",
       "    .dataframe tbody tr th:only-of-type {\n",
       "        vertical-align: middle;\n",
       "    }\n",
       "\n",
       "    .dataframe tbody tr th {\n",
       "        vertical-align: top;\n",
       "    }\n",
       "\n",
       "    .dataframe thead th {\n",
       "        text-align: right;\n",
       "    }\n",
       "</style>\n",
       "<table border=\"1\" class=\"dataframe\">\n",
       "  <thead>\n",
       "    <tr style=\"text-align: right;\">\n",
       "      <th></th>\n",
       "      <th>customer_id</th>\n",
       "      <th>gender</th>\n",
       "      <th>senior_citizen</th>\n",
       "      <th>partner</th>\n",
       "      <th>dependents</th>\n",
       "      <th>tenure</th>\n",
       "      <th>phone_service</th>\n",
       "      <th>multiple_lines</th>\n",
       "      <th>internet_service_type_id</th>\n",
       "      <th>online_security</th>\n",
       "      <th>online_backup</th>\n",
       "      <th>device_protection</th>\n",
       "      <th>tech_support</th>\n",
       "      <th>streaming_tv</th>\n",
       "      <th>streaming_movies</th>\n",
       "      <th>contract_type_id</th>\n",
       "      <th>paperless_billing</th>\n",
       "      <th>payment_type_id</th>\n",
       "      <th>monthly_charges</th>\n",
       "      <th>total_charges</th>\n",
       "      <th>churn</th>\n",
       "    </tr>\n",
       "  </thead>\n",
       "  <tbody>\n",
       "    <tr>\n",
       "      <th>0</th>\n",
       "      <td>0002-ORFBO</td>\n",
       "      <td>Female</td>\n",
       "      <td>0</td>\n",
       "      <td>Yes</td>\n",
       "      <td>Yes</td>\n",
       "      <td>9</td>\n",
       "      <td>Yes</td>\n",
       "      <td>No</td>\n",
       "      <td>1</td>\n",
       "      <td>No</td>\n",
       "      <td>Yes</td>\n",
       "      <td>No</td>\n",
       "      <td>Yes</td>\n",
       "      <td>Yes</td>\n",
       "      <td>No</td>\n",
       "      <td>2</td>\n",
       "      <td>Yes</td>\n",
       "      <td>2</td>\n",
       "      <td>65.60</td>\n",
       "      <td>593.30</td>\n",
       "      <td>No</td>\n",
       "    </tr>\n",
       "    <tr>\n",
       "      <th>1</th>\n",
       "      <td>0003-MKNFE</td>\n",
       "      <td>Male</td>\n",
       "      <td>0</td>\n",
       "      <td>No</td>\n",
       "      <td>No</td>\n",
       "      <td>9</td>\n",
       "      <td>Yes</td>\n",
       "      <td>Yes</td>\n",
       "      <td>1</td>\n",
       "      <td>No</td>\n",
       "      <td>No</td>\n",
       "      <td>No</td>\n",
       "      <td>No</td>\n",
       "      <td>No</td>\n",
       "      <td>Yes</td>\n",
       "      <td>1</td>\n",
       "      <td>No</td>\n",
       "      <td>2</td>\n",
       "      <td>59.90</td>\n",
       "      <td>542.40</td>\n",
       "      <td>No</td>\n",
       "    </tr>\n",
       "    <tr>\n",
       "      <th>2</th>\n",
       "      <td>0004-TLHLJ</td>\n",
       "      <td>Male</td>\n",
       "      <td>0</td>\n",
       "      <td>No</td>\n",
       "      <td>No</td>\n",
       "      <td>4</td>\n",
       "      <td>Yes</td>\n",
       "      <td>No</td>\n",
       "      <td>2</td>\n",
       "      <td>No</td>\n",
       "      <td>No</td>\n",
       "      <td>Yes</td>\n",
       "      <td>No</td>\n",
       "      <td>No</td>\n",
       "      <td>No</td>\n",
       "      <td>1</td>\n",
       "      <td>Yes</td>\n",
       "      <td>1</td>\n",
       "      <td>73.90</td>\n",
       "      <td>280.85</td>\n",
       "      <td>Yes</td>\n",
       "    </tr>\n",
       "    <tr>\n",
       "      <th>3</th>\n",
       "      <td>0011-IGKFF</td>\n",
       "      <td>Male</td>\n",
       "      <td>1</td>\n",
       "      <td>Yes</td>\n",
       "      <td>No</td>\n",
       "      <td>13</td>\n",
       "      <td>Yes</td>\n",
       "      <td>No</td>\n",
       "      <td>2</td>\n",
       "      <td>No</td>\n",
       "      <td>Yes</td>\n",
       "      <td>Yes</td>\n",
       "      <td>No</td>\n",
       "      <td>Yes</td>\n",
       "      <td>Yes</td>\n",
       "      <td>1</td>\n",
       "      <td>Yes</td>\n",
       "      <td>1</td>\n",
       "      <td>98.00</td>\n",
       "      <td>1237.85</td>\n",
       "      <td>Yes</td>\n",
       "    </tr>\n",
       "    <tr>\n",
       "      <th>4</th>\n",
       "      <td>0013-EXCHZ</td>\n",
       "      <td>Female</td>\n",
       "      <td>1</td>\n",
       "      <td>Yes</td>\n",
       "      <td>No</td>\n",
       "      <td>3</td>\n",
       "      <td>Yes</td>\n",
       "      <td>No</td>\n",
       "      <td>2</td>\n",
       "      <td>No</td>\n",
       "      <td>No</td>\n",
       "      <td>No</td>\n",
       "      <td>Yes</td>\n",
       "      <td>Yes</td>\n",
       "      <td>No</td>\n",
       "      <td>1</td>\n",
       "      <td>Yes</td>\n",
       "      <td>2</td>\n",
       "      <td>83.90</td>\n",
       "      <td>267.40</td>\n",
       "      <td>Yes</td>\n",
       "    </tr>\n",
       "    <tr>\n",
       "      <th>...</th>\n",
       "      <td>...</td>\n",
       "      <td>...</td>\n",
       "      <td>...</td>\n",
       "      <td>...</td>\n",
       "      <td>...</td>\n",
       "      <td>...</td>\n",
       "      <td>...</td>\n",
       "      <td>...</td>\n",
       "      <td>...</td>\n",
       "      <td>...</td>\n",
       "      <td>...</td>\n",
       "      <td>...</td>\n",
       "      <td>...</td>\n",
       "      <td>...</td>\n",
       "      <td>...</td>\n",
       "      <td>...</td>\n",
       "      <td>...</td>\n",
       "      <td>...</td>\n",
       "      <td>...</td>\n",
       "      <td>...</td>\n",
       "      <td>...</td>\n",
       "    </tr>\n",
       "    <tr>\n",
       "      <th>7038</th>\n",
       "      <td>9987-LUTYD</td>\n",
       "      <td>Female</td>\n",
       "      <td>0</td>\n",
       "      <td>No</td>\n",
       "      <td>No</td>\n",
       "      <td>13</td>\n",
       "      <td>Yes</td>\n",
       "      <td>No</td>\n",
       "      <td>1</td>\n",
       "      <td>Yes</td>\n",
       "      <td>No</td>\n",
       "      <td>No</td>\n",
       "      <td>Yes</td>\n",
       "      <td>No</td>\n",
       "      <td>No</td>\n",
       "      <td>2</td>\n",
       "      <td>No</td>\n",
       "      <td>2</td>\n",
       "      <td>55.15</td>\n",
       "      <td>742.90</td>\n",
       "      <td>No</td>\n",
       "    </tr>\n",
       "    <tr>\n",
       "      <th>7039</th>\n",
       "      <td>9992-RRAMN</td>\n",
       "      <td>Male</td>\n",
       "      <td>0</td>\n",
       "      <td>Yes</td>\n",
       "      <td>No</td>\n",
       "      <td>22</td>\n",
       "      <td>Yes</td>\n",
       "      <td>Yes</td>\n",
       "      <td>2</td>\n",
       "      <td>No</td>\n",
       "      <td>No</td>\n",
       "      <td>No</td>\n",
       "      <td>No</td>\n",
       "      <td>No</td>\n",
       "      <td>Yes</td>\n",
       "      <td>1</td>\n",
       "      <td>Yes</td>\n",
       "      <td>1</td>\n",
       "      <td>85.10</td>\n",
       "      <td>1873.70</td>\n",
       "      <td>Yes</td>\n",
       "    </tr>\n",
       "    <tr>\n",
       "      <th>7040</th>\n",
       "      <td>9992-UJOEL</td>\n",
       "      <td>Male</td>\n",
       "      <td>0</td>\n",
       "      <td>No</td>\n",
       "      <td>No</td>\n",
       "      <td>2</td>\n",
       "      <td>Yes</td>\n",
       "      <td>No</td>\n",
       "      <td>1</td>\n",
       "      <td>No</td>\n",
       "      <td>Yes</td>\n",
       "      <td>No</td>\n",
       "      <td>No</td>\n",
       "      <td>No</td>\n",
       "      <td>No</td>\n",
       "      <td>1</td>\n",
       "      <td>Yes</td>\n",
       "      <td>2</td>\n",
       "      <td>50.30</td>\n",
       "      <td>92.75</td>\n",
       "      <td>No</td>\n",
       "    </tr>\n",
       "    <tr>\n",
       "      <th>7041</th>\n",
       "      <td>9993-LHIEB</td>\n",
       "      <td>Male</td>\n",
       "      <td>0</td>\n",
       "      <td>Yes</td>\n",
       "      <td>Yes</td>\n",
       "      <td>67</td>\n",
       "      <td>Yes</td>\n",
       "      <td>No</td>\n",
       "      <td>1</td>\n",
       "      <td>Yes</td>\n",
       "      <td>No</td>\n",
       "      <td>Yes</td>\n",
       "      <td>Yes</td>\n",
       "      <td>No</td>\n",
       "      <td>Yes</td>\n",
       "      <td>3</td>\n",
       "      <td>No</td>\n",
       "      <td>2</td>\n",
       "      <td>67.85</td>\n",
       "      <td>4627.65</td>\n",
       "      <td>No</td>\n",
       "    </tr>\n",
       "    <tr>\n",
       "      <th>7042</th>\n",
       "      <td>9995-HOTOH</td>\n",
       "      <td>Male</td>\n",
       "      <td>0</td>\n",
       "      <td>Yes</td>\n",
       "      <td>Yes</td>\n",
       "      <td>63</td>\n",
       "      <td>No</td>\n",
       "      <td>No phone service</td>\n",
       "      <td>1</td>\n",
       "      <td>Yes</td>\n",
       "      <td>Yes</td>\n",
       "      <td>Yes</td>\n",
       "      <td>No</td>\n",
       "      <td>Yes</td>\n",
       "      <td>Yes</td>\n",
       "      <td>3</td>\n",
       "      <td>No</td>\n",
       "      <td>1</td>\n",
       "      <td>59.00</td>\n",
       "      <td>3707.60</td>\n",
       "      <td>No</td>\n",
       "    </tr>\n",
       "  </tbody>\n",
       "</table>\n",
       "<p>7032 rows × 21 columns</p>\n",
       "</div>"
      ],
      "text/plain": [
       "     customer_id  gender  senior_citizen partner dependents  tenure  \\\n",
       "0     0002-ORFBO  Female               0     Yes        Yes       9   \n",
       "1     0003-MKNFE    Male               0      No         No       9   \n",
       "2     0004-TLHLJ    Male               0      No         No       4   \n",
       "3     0011-IGKFF    Male               1     Yes         No      13   \n",
       "4     0013-EXCHZ  Female               1     Yes         No       3   \n",
       "...          ...     ...             ...     ...        ...     ...   \n",
       "7038  9987-LUTYD  Female               0      No         No      13   \n",
       "7039  9992-RRAMN    Male               0     Yes         No      22   \n",
       "7040  9992-UJOEL    Male               0      No         No       2   \n",
       "7041  9993-LHIEB    Male               0     Yes        Yes      67   \n",
       "7042  9995-HOTOH    Male               0     Yes        Yes      63   \n",
       "\n",
       "     phone_service    multiple_lines  internet_service_type_id  \\\n",
       "0              Yes                No                         1   \n",
       "1              Yes               Yes                         1   \n",
       "2              Yes                No                         2   \n",
       "3              Yes                No                         2   \n",
       "4              Yes                No                         2   \n",
       "...            ...               ...                       ...   \n",
       "7038           Yes                No                         1   \n",
       "7039           Yes               Yes                         2   \n",
       "7040           Yes                No                         1   \n",
       "7041           Yes                No                         1   \n",
       "7042            No  No phone service                         1   \n",
       "\n",
       "     online_security online_backup device_protection tech_support  \\\n",
       "0                 No           Yes                No          Yes   \n",
       "1                 No            No                No           No   \n",
       "2                 No            No               Yes           No   \n",
       "3                 No           Yes               Yes           No   \n",
       "4                 No            No                No          Yes   \n",
       "...              ...           ...               ...          ...   \n",
       "7038             Yes            No                No          Yes   \n",
       "7039              No            No                No           No   \n",
       "7040              No           Yes                No           No   \n",
       "7041             Yes            No               Yes          Yes   \n",
       "7042             Yes           Yes               Yes           No   \n",
       "\n",
       "     streaming_tv streaming_movies  contract_type_id paperless_billing  \\\n",
       "0             Yes               No                 2               Yes   \n",
       "1              No              Yes                 1                No   \n",
       "2              No               No                 1               Yes   \n",
       "3             Yes              Yes                 1               Yes   \n",
       "4             Yes               No                 1               Yes   \n",
       "...           ...              ...               ...               ...   \n",
       "7038           No               No                 2                No   \n",
       "7039           No              Yes                 1               Yes   \n",
       "7040           No               No                 1               Yes   \n",
       "7041           No              Yes                 3                No   \n",
       "7042          Yes              Yes                 3                No   \n",
       "\n",
       "      payment_type_id  monthly_charges  total_charges churn  \n",
       "0                   2            65.60         593.30    No  \n",
       "1                   2            59.90         542.40    No  \n",
       "2                   1            73.90         280.85   Yes  \n",
       "3                   1            98.00        1237.85   Yes  \n",
       "4                   2            83.90         267.40   Yes  \n",
       "...               ...              ...            ...   ...  \n",
       "7038                2            55.15         742.90    No  \n",
       "7039                1            85.10        1873.70   Yes  \n",
       "7040                2            50.30          92.75    No  \n",
       "7041                2            67.85        4627.65    No  \n",
       "7042                1            59.00        3707.60    No  \n",
       "\n",
       "[7032 rows x 21 columns]"
      ]
     },
     "execution_count": 24,
     "metadata": {},
     "output_type": "execute_result"
    }
   ],
   "source": [
    "telco_df = telco_df.dropna()\n",
    "telco_df"
   ]
  },
  {
   "cell_type": "code",
   "execution_count": 44,
   "id": "0e747bdc",
   "metadata": {},
   "outputs": [
    {
     "data": {
      "image/png": "[encoded data removed]",
      "text/plain": [
       "<Figure size 640x480 with 1 Axes>"
      ]
     },
     "metadata": {},
     "output_type": "display_data"
    },
    {
     "data": {
      "image/png": "[encoded data removed]",
      "text/plain": [
       "<Figure size 640x480 with 1 Axes>"
      ]
     },
     "metadata": {},
     "output_type": "display_data"
    }
   ],
   "source": [
    "sns.regplot(x= 'tenure', y='total_charges', data = telco_df, marker = '.', line_kws={'color': 'rebeccapurple'})\n",
    "plt.show()"
   ]
  },
  {
   "cell_type": "code",
   "execution_count": 57,
   "id": "eda5c66b",
   "metadata": {},
   "outputs": [],
   "source": [
    "x = telco_df.tenure\n",
    "y = telco_df.total_charges"
   ]
  },
  {
   "cell_type": "code",
   "execution_count": 58,
   "id": "bf42673a",
   "metadata": {},
   "outputs": [
    {
     "data": {
      "text/plain": [
       "(0.8891770805365491, 0.0)"
      ]
     },
     "execution_count": 58,
     "metadata": {},
     "output_type": "execute_result"
    }
   ],
   "source": [
    "r, p = stats.spearmanr(x, y)\n",
    "r, p"
   ]
  },
  {
   "cell_type": "code",
   "execution_count": 60,
   "id": "e08a7cf6",
   "metadata": {},
   "outputs": [
    {
     "data": {
      "text/plain": [
       "True"
      ]
     },
     "execution_count": 60,
     "metadata": {},
     "output_type": "execute_result"
    }
   ],
   "source": [
    "p < α"
   ]
  },
  {
   "cell_type": "code",
   "execution_count": 61,
   "id": "7d1cbcf1",
   "metadata": {},
   "outputs": [
    {
     "name": "stdout",
     "output_type": "stream",
     "text": [
      "reject the null hypothesis, there is a linear correlation\n"
     ]
    }
   ],
   "source": [
    "eval_result(alpha,p)"
   ]
  },
  {
   "cell_type": "markdown",
   "id": "7859b288",
   "metadata": {},
   "source": [
    "**takeway**  \n",
    "\n",
    "There is a linear correlation between tenure and total charges. With an r of .89, the correlation is strong   \n",
    "\n"
   ]
  },
  {
   "cell_type": "markdown",
   "id": "aa8b3bbc",
   "metadata": {},
   "source": [
    "### What happens if you control for phone and internet service?\n",
    "\n",
    "lets look at customers who have phone service and no internet\n",
    "\n",
    "\n",
    "1. state our hypothesis, set our alpha value\n",
    "2. select the data, check for nulls, fun .info\n",
    "3. plot the data\n",
    "4. test for assumptions (normal distrubution for correlation)\n",
    "5. run test\n",
    "6. draw conclusions\n",
    "\n",
    "Hypothesis: of customer who only have phone service\n",
    "\n",
    "null: there is no linear correlation between tenure and monthly charges\n",
    "alternative: there is a linear correlation between tenure and monthly charges"
   ]
  },
  {
   "cell_type": "code",
   "execution_count": 119,
   "id": "8f093786",
   "metadata": {},
   "outputs": [
    {
     "name": "stdout",
     "output_type": "stream",
     "text": [
      "<class 'pandas.core.frame.DataFrame'>\n",
      "Int64Index: 1736 entries, 0 to 7041\n",
      "Data columns (total 2 columns):\n",
      " #   Column           Non-Null Count  Dtype  \n",
      "---  ------           --------------  -----  \n",
      " 0   tenure           1736 non-null   int64  \n",
      " 1   monthly_charges  1736 non-null   float64\n",
      "dtypes: float64(1), int64(1)\n",
      "memory usage: 40.7 KB\n"
     ]
    },
    {
     "data": {
      "image/png": "[encoded data removed]",
      "text/plain": [
       "<Figure size 640x480 with 1 Axes>"
      ]
     },
     "metadata": {},
     "output_type": "display_data"
    },
    {
     "data": {
      "image/png": "[encoded data removed]",
      "text/plain": [
       "<Figure size 640x480 with 1 Axes>"
      ]
     },
     "metadata": {},
     "output_type": "display_data"
    },
    {
     "data": {
      "image/png": "[encoded data removed]",
      "text/plain": [
       "<Figure size 640x480 with 1 Axes>"
      ]
     },
     "metadata": {},
     "output_type": "display_data"
    }
   ],
   "source": [
    "# set alpha\n",
    "alpha - 0.05\n",
    "\n",
    "# select data\n",
    "\n",
    "phone_df = telco_df[(telco_df.phone_service == 'Yes') & (telco_df.internet_service_type_id == 1)][['tenure', 'monthly_charges']]\n",
    "\n",
    "phone_df.info()\n",
    "\n",
    "# plot data\n",
    "\n",
    "sns.regplot(x='tenure', y='monthly_charges', data=phone_df, marker='.', line_kws=({'color': 'rebeccapurple'}))\n",
    "plt.show()            \n",
    "\n",
    "\n",
    "# check for normal distrubution\n",
    "\n",
    "phone_df.tenure.hist()\n",
    "plt.show()\n",
    "phone_df.monthly_charges.hist()\n",
    "plt.show()\n",
    "\n"
   ]
  },
  {
   "cell_type": "markdown",
   "id": "ac8b1b87",
   "metadata": {},
   "source": [
    "We will use Spearmans test due to violation of assumption of normality"
   ]
  },
  {
   "cell_type": "code",
   "execution_count": 120,
   "id": "3003d621",
   "metadata": {},
   "outputs": [
    {
     "name": "stdout",
     "output_type": "stream",
     "text": [
      "reject the null hypothesis, there is a linear correlation\n",
      "r value = 0.5228138502259547\n"
     ]
    }
   ],
   "source": [
    "stats.spearmanr(phone_df.tenure, phone_df.monthly_charges)\n",
    "\n",
    "eval_result(alpha, p)\n",
    "\n",
    "print(f'r value = {r}')"
   ]
  },
  {
   "cell_type": "markdown",
   "id": "dbf35583",
   "metadata": {},
   "source": [
    "**takeaways**\n",
    "\n",
    "There is a moderate-strong correlation between tenure and monthly charges for custoemrs who have only phone service"
   ]
  },
  {
   "cell_type": "code",
   "execution_count": null,
   "id": "92fd394e",
   "metadata": {},
   "outputs": [],
   "source": []
  },
  {
   "cell_type": "markdown",
   "id": "682f57eb",
   "metadata": {},
   "source": [
    "### Use the employees database."
   ]
  },
  {
   "cell_type": "code",
   "execution_count": 30,
   "id": "3c059c01",
   "metadata": {},
   "outputs": [],
   "source": [
    "import env\n",
    "import os\n",
    "\n",
    "# create the url variable (string) with my username, password and host inserted\n",
    "url = f'mysql+pymysql://{env.username}:{env.password}@{env.host}/employees'"
   ]
  },
  {
   "cell_type": "code",
   "execution_count": 125,
   "id": "dd14f5d7",
   "metadata": {},
   "outputs": [],
   "source": [
    "query = '''\n",
    "SELECT *\n",
    "FROM employees\n",
    "JOIN salaries USING (emp_no)\n",
    "WHERE to_date = '9999-01-01';\n",
    "'''"
   ]
  },
  {
   "cell_type": "code",
   "execution_count": 126,
   "id": "15ea5f3f",
   "metadata": {},
   "outputs": [
    {
     "name": "stdout",
     "output_type": "stream",
     "text": [
      "<class 'pandas.core.frame.DataFrame'>\n",
      "RangeIndex: 240124 entries, 0 to 240123\n",
      "Data columns (total 9 columns):\n",
      " #   Column      Non-Null Count   Dtype \n",
      "---  ------      --------------   ----- \n",
      " 0   emp_no      240124 non-null  int64 \n",
      " 1   birth_date  240124 non-null  object\n",
      " 2   first_name  240124 non-null  object\n",
      " 3   last_name   240124 non-null  object\n",
      " 4   gender      240124 non-null  object\n",
      " 5   hire_date   240124 non-null  object\n",
      " 6   salary      240124 non-null  int64 \n",
      " 7   from_date   240124 non-null  object\n",
      " 8   to_date     240124 non-null  object\n",
      "dtypes: int64(2), object(7)\n",
      "memory usage: 16.5+ MB\n"
     ]
    }
   ],
   "source": [
    "\n",
    "employees_df = pd.read_sql(query, url)\n",
    "employees_df.info()"
   ]
  },
  {
   "cell_type": "markdown",
   "id": "6ecd10c3",
   "metadata": {},
   "source": [
    "#### Is there a relationship between how long an employee has been with the company and their salary?  \n",
    "\n",
    "1. state our hypothesis, set our alpha value\n",
    "2. select the data, check for nulls, fun .info\n",
    "3. plot the data\n",
    "4. test for assumptions (normal distrubution for correlation)\n",
    "5. run test\n",
    "6. draw conclusions\n",
    "\n",
    "Hypothesis: Is there a relationship between how long an employee has been with the company and their salary?  \n",
    "\n",
    "null: there is no linear correlation between employee tenure and salary  \n",
    "alternative: there is a linear correlation between tenure and salary  "
   ]
  },
  {
   "cell_type": "code",
   "execution_count": 127,
   "id": "b5d1ff59",
   "metadata": {},
   "outputs": [
    {
     "data": {
      "image/png": "[encoded data removed]",
      "text/plain": [
       "<Figure size 640x480 with 1 Axes>"
      ]
     },
     "metadata": {},
     "output_type": "display_data"
    }
   ],
   "source": [
    "alpha = 0.05\n",
    "\n",
    "# select our data\n",
    "employees_df['tenure'] = pd.to_datetime('today') - pd.to_datetime(employees_df.hire_date)\n",
    "\n",
    "employees_df['tenure'] = employees_df.tenure.astype('str').str.split(' ', expand=True)[0].astype('int')\n",
    "\n",
    "# employees_df.info()\n",
    "tenure_df = employees_df[['tenure', 'salary']]\n",
    "\n",
    "# plot the data\n",
    "\n",
    "sns.regplot(x='tenure', y='salary', data=tenure_df, marker= '.', line_kws=({'color': 'firebrick'}))\n",
    "plt.show()"
   ]
  },
  {
   "cell_type": "code",
   "execution_count": 90,
   "id": "56d3e7c7",
   "metadata": {},
   "outputs": [
    {
     "data": {
      "image/png": "[encoded data removed]",
      "text/plain": [
       "<Figure size 640x480 with 1 Axes>"
      ]
     },
     "metadata": {},
     "output_type": "display_data"
    },
    {
     "data": {
      "image/png": "[encoded data removed]",
      "text/plain": [
       "<Figure size 640x480 with 1 Axes>"
      ]
     },
     "metadata": {},
     "output_type": "display_data"
    }
   ],
   "source": [
    "# look at distribution, look for normality\n",
    "\n",
    "tenure_df.tenure.hist()\n",
    "plt.show()\n",
    "tenure_df.salary.hist()\n",
    "plt.show()"
   ]
  },
  {
   "cell_type": "markdown",
   "id": "1376bbcf",
   "metadata": {},
   "source": [
    "distributions are not normal, so we will use spearmans test"
   ]
  },
  {
   "cell_type": "code",
   "execution_count": 93,
   "id": "c0eef1dd",
   "metadata": {},
   "outputs": [
    {
     "name": "stdout",
     "output_type": "stream",
     "text": [
      "reject the null hypothesis, there is a linear correlation\n",
      "r value:  0.3128783525010577\n"
     ]
    }
   ],
   "source": [
    "# run test\n",
    "r, p = stats.spearmanr(tenure_df.tenure, tenure_df.salary)\n",
    "\n",
    "# evaluate restuls\n",
    "eval_result(alpha, p)\n",
    "print('r value: ', r)"
   ]
  },
  {
   "cell_type": "markdown",
   "id": "52a99db4",
   "metadata": {},
   "source": [
    "**takeaways**\n",
    "\n",
    "There is a moderate correlation between tenure and salary"
   ]
  },
  {
   "cell_type": "markdown",
   "id": "d82741dd",
   "metadata": {},
   "source": [
    "#### Is there a relationship between how long an employee has been with the company and the number of titles they have?\n",
    "\n",
    "1. state our hypothesis, set our alpha value\n",
    "2. select the data, check for nulls, fun .info\n",
    "3. plot the data\n",
    "4. test for assumptions (normal distrubution for correlation)\n",
    "5. run test\n",
    "6. draw conclusions\n",
    "\n",
    "Hypothesis: Is there a relationship between how long an employee has been with the company and the number of titles they have?\n",
    "\n",
    "null: there is no linear correlation between employee tenure and number of titles  \n",
    "alternative: there is a linear correlation between tenure and number of titles "
   ]
  },
  {
   "cell_type": "code",
   "execution_count": 128,
   "id": "a06109bf",
   "metadata": {},
   "outputs": [],
   "source": [
    "# set alpha\n",
    "alpha = 0.05\n",
    "\n",
    "# select data\n",
    "\n"
   ]
  },
  {
   "cell_type": "code",
   "execution_count": 133,
   "id": "98ed3153",
   "metadata": {},
   "outputs": [],
   "source": [
    "query = '''\n",
    "SELECT t.emp_no, count(t.title) as num_titles, te.tenure\n",
    "FROM titles t\n",
    "JOIN (SELECT emp_no, datediff(now(), min(from_date)) As tenure\n",
    "      FROM titles\n",
    "      GROUP BY emp_no\n",
    "      HAVING max(to_date) = '9999-01-01'\n",
    ") te using(emp_no)\n",
    "GROUP BY t.emp_no;\n",
    "'''"
   ]
  },
  {
   "cell_type": "code",
   "execution_count": 134,
   "id": "2f5b487a",
   "metadata": {},
   "outputs": [
    {
     "name": "stdout",
     "output_type": "stream",
     "text": [
      "<class 'pandas.core.frame.DataFrame'>\n",
      "RangeIndex: 240124 entries, 0 to 240123\n",
      "Data columns (total 3 columns):\n",
      " #   Column      Non-Null Count   Dtype\n",
      "---  ------      --------------   -----\n",
      " 0   emp_no      240124 non-null  int64\n",
      " 1   num_titles  240124 non-null  int64\n",
      " 2   tenure      240124 non-null  int64\n",
      "dtypes: int64(3)\n",
      "memory usage: 5.5 MB\n"
     ]
    }
   ],
   "source": [
    "employees_df = pd.read_sql(query, url)\n",
    "employees_df.info()"
   ]
  },
  {
   "cell_type": "code",
   "execution_count": 137,
   "id": "51b2e7e7",
   "metadata": {},
   "outputs": [
    {
     "data": {
      "image/png": "[encoded data removed]",
      "text/plain": [
       "<Figure size 640x480 with 1 Axes>"
      ]
     },
     "metadata": {},
     "output_type": "display_data"
    }
   ],
   "source": [
    "# plot the data\n",
    "\n",
    "employees_df = employees_df[['num_titles', 'tenure']]\n",
    "\n",
    "sns.regplot(x='tenure', y='num_titles', data=employees_df, marker='.', line_kws=({'color': 'seagreen'}))\n",
    "plt.show()"
   ]
  },
  {
   "cell_type": "markdown",
   "id": "0091ecc8",
   "metadata": {},
   "source": [
    "Because the number of titles is a discrete value, we should run an ANOVA or a kruskal Wallis test to test \n",
    "whether the average salary of those with 1 title is different from those with 2, or 2 different from 3, etc\n",
    "\n",
    "Assumptions: \n",
    "1. do they have equal variance? YES. \n",
    "2. are there enough observations? YES.  \n",
    "3. are they independent of each other? YES.    \n"
   ]
  },
  {
   "cell_type": "code",
   "execution_count": 138,
   "id": "347a4557",
   "metadata": {},
   "outputs": [
    {
     "data": {
      "text/plain": [
       "2    125345\n",
       "1    111892\n",
       "3      2887\n",
       "Name: num_titles, dtype: int64"
      ]
     },
     "execution_count": 138,
     "metadata": {},
     "output_type": "execute_result"
    }
   ],
   "source": [
    "# observations:\n",
    "employees_df.num_titles.value_counts()"
   ]
  },
  {
   "cell_type": "code",
   "execution_count": 139,
   "id": "c95a3e08",
   "metadata": {},
   "outputs": [
    {
     "data": {
      "text/plain": [
       "LeveneResult(statistic=718602.1569097865, pvalue=0.0)"
      ]
     },
     "execution_count": 139,
     "metadata": {},
     "output_type": "execute_result"
    }
   ],
   "source": [
    "# equal variance?\n",
    "# h_o the variance is equal\n",
    "# h_a the variances are significantly different\n",
    "\n",
    "stats.levene(employees_df.num_titles, employees_df.tenure)"
   ]
  },
  {
   "cell_type": "markdown",
   "id": "a5aa05a1",
   "metadata": {},
   "source": [
    "The variances are significantly different; therefore we will use the Kruskal Wallis test"
   ]
  },
  {
   "cell_type": "code",
   "execution_count": 142,
   "id": "05afed25",
   "metadata": {},
   "outputs": [
    {
     "data": {
      "text/plain": [
       "KruskalResult(statistic=371488.64419334417, pvalue=0.0)"
      ]
     },
     "execution_count": 142,
     "metadata": {},
     "output_type": "execute_result"
    }
   ],
   "source": [
    "stats.kruskal(employees_df.num_titles, employees_df.tenure)"
   ]
  },
  {
   "cell_type": "markdown",
   "id": "2bd25dc6",
   "metadata": {},
   "source": [
    "**takeaway**\n",
    "\n",
    "There is a difference in tenure and number of titles an employee has held"
   ]
  },
  {
   "cell_type": "markdown",
   "id": "13a7845d",
   "metadata": {},
   "source": [
    "### Use the sleepstudy data.\n",
    "#### Is there a relationship between days and reaction time?"
   ]
  },
  {
   "cell_type": "code",
   "execution_count": 110,
   "id": "9574f9d4",
   "metadata": {},
   "outputs": [
    {
     "name": "stdout",
     "output_type": "stream",
     "text": [
      "<class 'pandas.core.frame.DataFrame'>\n",
      "Int64Index: 180 entries, 1 to 180\n",
      "Data columns (total 3 columns):\n",
      " #   Column    Non-Null Count  Dtype  \n",
      "---  ------    --------------  -----  \n",
      " 0   Reaction  180 non-null    float64\n",
      " 1   Days      180 non-null    int64  \n",
      " 2   Subject   180 non-null    int64  \n",
      "dtypes: float64(1), int64(2)\n",
      "memory usage: 5.6 KB\n"
     ]
    },
    {
     "data": {
      "text/html": [
       "<div>\n",
       "<style scoped>\n",
       "    .dataframe tbody tr th:only-of-type {\n",
       "        vertical-align: middle;\n",
       "    }\n",
       "\n",
       "    .dataframe tbody tr th {\n",
       "        vertical-align: top;\n",
       "    }\n",
       "\n",
       "    .dataframe thead th {\n",
       "        text-align: right;\n",
       "    }\n",
       "</style>\n",
       "<table border=\"1\" class=\"dataframe\">\n",
       "  <thead>\n",
       "    <tr style=\"text-align: right;\">\n",
       "      <th></th>\n",
       "      <th>Reaction</th>\n",
       "      <th>Days</th>\n",
       "      <th>Subject</th>\n",
       "    </tr>\n",
       "  </thead>\n",
       "  <tbody>\n",
       "    <tr>\n",
       "      <th>1</th>\n",
       "      <td>249.5600</td>\n",
       "      <td>0</td>\n",
       "      <td>308</td>\n",
       "    </tr>\n",
       "    <tr>\n",
       "      <th>2</th>\n",
       "      <td>258.7047</td>\n",
       "      <td>1</td>\n",
       "      <td>308</td>\n",
       "    </tr>\n",
       "    <tr>\n",
       "      <th>3</th>\n",
       "      <td>250.8006</td>\n",
       "      <td>2</td>\n",
       "      <td>308</td>\n",
       "    </tr>\n",
       "    <tr>\n",
       "      <th>4</th>\n",
       "      <td>321.4398</td>\n",
       "      <td>3</td>\n",
       "      <td>308</td>\n",
       "    </tr>\n",
       "    <tr>\n",
       "      <th>5</th>\n",
       "      <td>356.8519</td>\n",
       "      <td>4</td>\n",
       "      <td>308</td>\n",
       "    </tr>\n",
       "  </tbody>\n",
       "</table>\n",
       "</div>"
      ],
      "text/plain": [
       "   Reaction  Days  Subject\n",
       "1  249.5600     0      308\n",
       "2  258.7047     1      308\n",
       "3  250.8006     2      308\n",
       "4  321.4398     3      308\n",
       "5  356.8519     4      308"
      ]
     },
     "execution_count": 110,
     "metadata": {},
     "output_type": "execute_result"
    }
   ],
   "source": [
    "df = data('sleepstudy')\n",
    "df.info()\n",
    "df.head()"
   ]
  },
  {
   "cell_type": "markdown",
   "id": "458f681f",
   "metadata": {},
   "source": [
    "H_0: there is no linear correlation between days and reaction time  \n",
    "H_a: there is a linear correlation between days and reaction time"
   ]
  },
  {
   "cell_type": "code",
   "execution_count": 113,
   "id": "883fd26d",
   "metadata": {},
   "outputs": [
    {
     "data": {
      "image/png": "[encoded data removed]",
      "text/plain": [
       "<Figure size 640x480 with 1 Axes>"
      ]
     },
     "metadata": {},
     "output_type": "display_data"
    }
   ],
   "source": [
    "alpha = 0.05\n",
    "\n",
    "# select data\n",
    "\n",
    "df = df[['Reaction', 'Days']]\n",
    "\n",
    "# plot the data\n",
    "sns.regplot(x='Days', y='Reaction', data=df, marker='.', line_kws=({'color': 'seagreen'}))\n",
    "plt.show()"
   ]
  },
  {
   "cell_type": "code",
   "execution_count": 116,
   "id": "8f7a19df",
   "metadata": {},
   "outputs": [
    {
     "data": {
      "image/png": "[encoded data removed]",
      "text/plain": [
       "<Figure size 640x480 with 1 Axes>"
      ]
     },
     "metadata": {},
     "output_type": "display_data"
    },
    {
     "data": {
      "image/png": "[encoded data removed]",
      "text/plain": [
       "<Figure size 640x480 with 1 Axes>"
      ]
     },
     "metadata": {},
     "output_type": "display_data"
    }
   ],
   "source": [
    "# check for normal distrubution, plot histogram\n",
    "\n",
    "df.Days.hist()\n",
    "plt.show()\n",
    "df.Reaction.hist()\n",
    "plt.show()"
   ]
  },
  {
   "cell_type": "markdown",
   "id": "fa5e89aa",
   "metadata": {},
   "source": [
    "Days in uniformaly distributed and reaction time is normally distributed"
   ]
  },
  {
   "cell_type": "code",
   "execution_count": 118,
   "id": "7f3694fd",
   "metadata": {},
   "outputs": [
    {
     "name": "stdout",
     "output_type": "stream",
     "text": [
      "reject the null hypothesis, there is a linear correlation\n",
      "r value:  0.5228138502259547\n"
     ]
    }
   ],
   "source": [
    "# run the spearman test\n",
    "\n",
    "r, p = stats.spearmanr(df.Days, df.Reaction)\n",
    "eval_result(alpha, p)\n",
    "print('r value: ', r)"
   ]
  },
  {
   "cell_type": "markdown",
   "id": "1de85c1a",
   "metadata": {},
   "source": [
    "**takeaway**  \n",
    "\n",
    "There is a moderate correlation between days and reaction time"
   ]
  },
  {
   "cell_type": "code",
   "execution_count": null,
   "id": "8b0bc321",
   "metadata": {},
   "outputs": [],
   "source": []
  }
 ],
 "metadata": {
  "kernelspec": {
   "display_name": "Python 3 (ipykernel)",
   "language": "python",
   "name": "python3"
  },
  "language_info": {
   "codemirror_mode": {
    "name": "ipython",
    "version": 3
   },
   "file_extension": ".py",
   "mimetype": "text/x-python",
   "name": "python",
   "nbconvert_exporter": "python",
   "pygments_lexer": "ipython3",
   "version": "3.9.13"
  }
 },
 "nbformat": 4,
 "nbformat_minor": 5
}
